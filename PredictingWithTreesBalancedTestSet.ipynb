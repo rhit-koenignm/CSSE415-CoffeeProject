{
 "cells": [
  {
   "cell_type": "markdown",
   "id": "8c89b7ff",
   "metadata": {},
   "source": [
    "# Predicting Total Cup\n",
    "\n",
    "# Description \n",
    "Experiments with a DecisionTreeClassifier and a RandomForestClassifier to predict total cup score without the 10 quality measures.\n",
    "\n",
    "# Project Name: Not a Latte cool beans\n",
    "# Date: 5/15/2022"
   ]
  },
  {
   "cell_type": "code",
   "execution_count": 1,
   "id": "073ab3e1",
   "metadata": {},
   "outputs": [],
   "source": [
    "import numpy as np\n",
    "import pandas as pd\n",
    "\n",
    "from sklearn.model_selection import GridSearchCV\n",
    "from sklearn.tree import DecisionTreeClassifier\n",
    "from sklearn.ensemble import RandomForestClassifier "
   ]
  },
  {
   "cell_type": "code",
   "execution_count": 2,
   "id": "7c1739e8",
   "metadata": {},
   "outputs": [
    {
     "data": {
      "text/html": [
       "<div>\n",
       "<style scoped>\n",
       "    .dataframe tbody tr th:only-of-type {\n",
       "        vertical-align: middle;\n",
       "    }\n",
       "\n",
       "    .dataframe tbody tr th {\n",
       "        vertical-align: top;\n",
       "    }\n",
       "\n",
       "    .dataframe thead th {\n",
       "        text-align: right;\n",
       "    }\n",
       "</style>\n",
       "<table border=\"1\" class=\"dataframe\">\n",
       "  <thead>\n",
       "    <tr style=\"text-align: right;\">\n",
       "      <th></th>\n",
       "      <th>Species</th>\n",
       "      <th>Country.of.Origin</th>\n",
       "      <th>Number.of.Bags</th>\n",
       "      <th>In.Country.Partner</th>\n",
       "      <th>Variety</th>\n",
       "      <th>Processing.Method</th>\n",
       "      <th>Aroma</th>\n",
       "      <th>Flavor</th>\n",
       "      <th>Aftertaste</th>\n",
       "      <th>Acidity</th>\n",
       "      <th>...</th>\n",
       "      <th>Sweetness</th>\n",
       "      <th>Cupper.Points</th>\n",
       "      <th>Moisture</th>\n",
       "      <th>Category.One.Defects</th>\n",
       "      <th>Quakers</th>\n",
       "      <th>Color</th>\n",
       "      <th>Category.Two.Defects</th>\n",
       "      <th>altitude_low_meters</th>\n",
       "      <th>altitude_high_meters</th>\n",
       "      <th>quality</th>\n",
       "    </tr>\n",
       "  </thead>\n",
       "  <tbody>\n",
       "    <tr>\n",
       "      <th>0</th>\n",
       "      <td>Arabica</td>\n",
       "      <td>Colombia</td>\n",
       "      <td>275</td>\n",
       "      <td>Almacafé</td>\n",
       "      <td>Caturra</td>\n",
       "      <td>Washed / Wet</td>\n",
       "      <td>7.67</td>\n",
       "      <td>7.75</td>\n",
       "      <td>7.42</td>\n",
       "      <td>7.83</td>\n",
       "      <td>...</td>\n",
       "      <td>10.0</td>\n",
       "      <td>7.42</td>\n",
       "      <td>0.11</td>\n",
       "      <td>0</td>\n",
       "      <td>0.0</td>\n",
       "      <td>Green</td>\n",
       "      <td>1</td>\n",
       "      <td>1650.0</td>\n",
       "      <td>1650.0</td>\n",
       "      <td>excellent</td>\n",
       "    </tr>\n",
       "    <tr>\n",
       "      <th>1</th>\n",
       "      <td>Arabica</td>\n",
       "      <td>Honduras</td>\n",
       "      <td>275</td>\n",
       "      <td>Instituto Hondureño del Café</td>\n",
       "      <td>Caturra</td>\n",
       "      <td>Washed / Wet</td>\n",
       "      <td>7.50</td>\n",
       "      <td>7.58</td>\n",
       "      <td>7.33</td>\n",
       "      <td>7.50</td>\n",
       "      <td>...</td>\n",
       "      <td>10.0</td>\n",
       "      <td>7.58</td>\n",
       "      <td>0.10</td>\n",
       "      <td>0</td>\n",
       "      <td>1.0</td>\n",
       "      <td>Green</td>\n",
       "      <td>8</td>\n",
       "      <td>1396.0</td>\n",
       "      <td>1396.0</td>\n",
       "      <td>excellent</td>\n",
       "    </tr>\n",
       "    <tr>\n",
       "      <th>2</th>\n",
       "      <td>Arabica</td>\n",
       "      <td>Mexico</td>\n",
       "      <td>10</td>\n",
       "      <td>AMECAFE</td>\n",
       "      <td>Bourbon</td>\n",
       "      <td>Washed / Wet</td>\n",
       "      <td>7.50</td>\n",
       "      <td>7.58</td>\n",
       "      <td>7.42</td>\n",
       "      <td>7.67</td>\n",
       "      <td>...</td>\n",
       "      <td>10.0</td>\n",
       "      <td>7.33</td>\n",
       "      <td>0.13</td>\n",
       "      <td>0</td>\n",
       "      <td>0.0</td>\n",
       "      <td>Green</td>\n",
       "      <td>3</td>\n",
       "      <td>1170.0</td>\n",
       "      <td>1170.0</td>\n",
       "      <td>excellent</td>\n",
       "    </tr>\n",
       "  </tbody>\n",
       "</table>\n",
       "<p>3 rows × 24 columns</p>\n",
       "</div>"
      ],
      "text/plain": [
       "   Species Country.of.Origin  Number.of.Bags            In.Country.Partner  \\\n",
       "0  Arabica          Colombia             275                      Almacafé   \n",
       "1  Arabica          Honduras             275  Instituto Hondureño del Café   \n",
       "2  Arabica            Mexico              10                       AMECAFE   \n",
       "\n",
       "   Variety Processing.Method  Aroma  Flavor  Aftertaste  Acidity  ...  \\\n",
       "0  Caturra      Washed / Wet   7.67    7.75        7.42     7.83  ...   \n",
       "1  Caturra      Washed / Wet   7.50    7.58        7.33     7.50  ...   \n",
       "2  Bourbon      Washed / Wet   7.50    7.58        7.42     7.67  ...   \n",
       "\n",
       "   Sweetness  Cupper.Points  Moisture  Category.One.Defects  Quakers  Color  \\\n",
       "0       10.0           7.42      0.11                     0      0.0  Green   \n",
       "1       10.0           7.58      0.10                     0      1.0  Green   \n",
       "2       10.0           7.33      0.13                     0      0.0  Green   \n",
       "\n",
       "   Category.Two.Defects  altitude_low_meters  altitude_high_meters    quality  \n",
       "0                     1               1650.0                1650.0  excellent  \n",
       "1                     8               1396.0                1396.0  excellent  \n",
       "2                     3               1170.0                1170.0  excellent  \n",
       "\n",
       "[3 rows x 24 columns]"
      ]
     },
     "execution_count": 2,
     "metadata": {},
     "output_type": "execute_result"
    }
   ],
   "source": [
    "# Let's start by loading in our train and test datasets\n",
    "df_train = pd.read_csv('train_data.csv')\n",
    "df_test = pd.read_csv('test_data_balanced.csv')\n",
    "\n",
    "df_test.head(3)"
   ]
  },
  {
   "cell_type": "code",
   "execution_count": 3,
   "id": "8cd6b826",
   "metadata": {},
   "outputs": [
    {
     "data": {
      "text/plain": [
       "Index(['Species', 'Country.of.Origin', 'Number.of.Bags', 'In.Country.Partner',\n",
       "       'Variety', 'Processing.Method', 'Aroma', 'Flavor', 'Aftertaste',\n",
       "       'Acidity', 'Body', 'Balance', 'Uniformity', 'Clean.Cup', 'Sweetness',\n",
       "       'Cupper.Points', 'Moisture', 'Category.One.Defects', 'Quakers', 'Color',\n",
       "       'Category.Two.Defects', 'altitude_low_meters', 'altitude_high_meters',\n",
       "       'quality'],\n",
       "      dtype='object')"
      ]
     },
     "execution_count": 3,
     "metadata": {},
     "output_type": "execute_result"
    }
   ],
   "source": [
    "df_test.columns"
   ]
  },
  {
   "cell_type": "code",
   "execution_count": 4,
   "id": "498bcc38",
   "metadata": {},
   "outputs": [
    {
     "data": {
      "text/html": [
       "<div>\n",
       "<style scoped>\n",
       "    .dataframe tbody tr th:only-of-type {\n",
       "        vertical-align: middle;\n",
       "    }\n",
       "\n",
       "    .dataframe tbody tr th {\n",
       "        vertical-align: top;\n",
       "    }\n",
       "\n",
       "    .dataframe thead th {\n",
       "        text-align: right;\n",
       "    }\n",
       "</style>\n",
       "<table border=\"1\" class=\"dataframe\">\n",
       "  <thead>\n",
       "    <tr style=\"text-align: right;\">\n",
       "      <th></th>\n",
       "      <th>Species</th>\n",
       "      <th>Number.of.Bags</th>\n",
       "      <th>Processing.Method</th>\n",
       "      <th>Moisture</th>\n",
       "      <th>Category.One.Defects</th>\n",
       "      <th>Quakers</th>\n",
       "      <th>Color</th>\n",
       "      <th>Category.Two.Defects</th>\n",
       "      <th>altitude_low_meters</th>\n",
       "      <th>altitude_high_meters</th>\n",
       "      <th>quality</th>\n",
       "    </tr>\n",
       "  </thead>\n",
       "  <tbody>\n",
       "    <tr>\n",
       "      <th>1034</th>\n",
       "      <td>Arabica</td>\n",
       "      <td>50</td>\n",
       "      <td>Washed / Wet</td>\n",
       "      <td>0.10</td>\n",
       "      <td>0</td>\n",
       "      <td>0.0</td>\n",
       "      <td>Blue-Green</td>\n",
       "      <td>0</td>\n",
       "      <td>500.0</td>\n",
       "      <td>700.0</td>\n",
       "      <td>very good</td>\n",
       "    </tr>\n",
       "    <tr>\n",
       "      <th>124</th>\n",
       "      <td>Arabica</td>\n",
       "      <td>10</td>\n",
       "      <td>Natural / Dry</td>\n",
       "      <td>0.15</td>\n",
       "      <td>1</td>\n",
       "      <td>0.0</td>\n",
       "      <td>None</td>\n",
       "      <td>8</td>\n",
       "      <td>441.0</td>\n",
       "      <td>441.0</td>\n",
       "      <td>excellent</td>\n",
       "    </tr>\n",
       "    <tr>\n",
       "      <th>184</th>\n",
       "      <td>Arabica</td>\n",
       "      <td>44</td>\n",
       "      <td>Washed / Wet</td>\n",
       "      <td>0.11</td>\n",
       "      <td>0</td>\n",
       "      <td>0.0</td>\n",
       "      <td>Green</td>\n",
       "      <td>2</td>\n",
       "      <td>950.0</td>\n",
       "      <td>950.0</td>\n",
       "      <td>excellent</td>\n",
       "    </tr>\n",
       "  </tbody>\n",
       "</table>\n",
       "</div>"
      ],
      "text/plain": [
       "      Species  Number.of.Bags Processing.Method  Moisture  \\\n",
       "1034  Arabica              50      Washed / Wet      0.10   \n",
       "124   Arabica              10     Natural / Dry      0.15   \n",
       "184   Arabica              44      Washed / Wet      0.11   \n",
       "\n",
       "      Category.One.Defects  Quakers       Color  Category.Two.Defects  \\\n",
       "1034                     0      0.0  Blue-Green                     0   \n",
       "124                      1      0.0        None                     8   \n",
       "184                      0      0.0       Green                     2   \n",
       "\n",
       "      altitude_low_meters  altitude_high_meters    quality  \n",
       "1034                500.0                 700.0  very good  \n",
       "124                 441.0                 441.0  excellent  \n",
       "184                 950.0                 950.0  excellent  "
      ]
     },
     "execution_count": 4,
     "metadata": {},
     "output_type": "execute_result"
    }
   ],
   "source": [
    "# So now we've loaded in our datasets, first order of business is to drop the\n",
    "# quality measure columns\n",
    "df_train = df_train.drop(['Aroma', 'Flavor', 'Aftertaste', 'Acidity', 'Body', 'Balance',\n",
    "       'Uniformity', 'Clean.Cup', 'Sweetness', 'Cupper.Points', 'Total.Cup.Points', 'Country.of.Origin', 'In.Country.Partner', 'Variety'], axis=1)\n",
    "df_test = df_test.drop(['Aroma', 'Flavor', 'Aftertaste', 'Acidity', 'Body', 'Balance',\n",
    "       'Uniformity', 'Clean.Cup', 'Sweetness', 'Cupper.Points', 'Country.of.Origin', 'In.Country.Partner', 'Variety'],axis=1)\n",
    "\n",
    "# And we'll also shuffle for good measure\n",
    "df_train = df_train.sample(frac=1.0, random_state=0)\n",
    "df_test = df_test.sample(frac=1.0, random_state=0)\n",
    "\n",
    "df_train.head(3)"
   ]
  },
  {
   "cell_type": "code",
   "execution_count": 5,
   "id": "fd6ae171",
   "metadata": {},
   "outputs": [],
   "source": [
    "# Now we can define our target and features\n",
    "X_train = df_train.drop(['quality'], axis=1)\n",
    "X_test = df_test.drop(['quality'], axis=1)\n",
    "\n",
    "y_train = df_train['quality']\n",
    "y_test = df_test['quality']"
   ]
  },
  {
   "cell_type": "code",
   "execution_count": 6,
   "id": "f959c4e0",
   "metadata": {},
   "outputs": [],
   "source": [
    "# We'll get dummies for the categorical data and standardize the numerical columns\n",
    "X_train_num = X_train.select_dtypes(include='number')\n",
    "X_train_cat = X_train.select_dtypes(exclude='number')\n",
    "\n",
    "X_train_cat = pd.get_dummies(X_train_cat)\n",
    "X_train_num = (X_train_num - X_train_num.mean()) / X_train_num.std()\n",
    "\n",
    "X_train = pd.concat([X_train_num, X_train_cat], axis=1)\n",
    "\n",
    "X_test_num = X_test.select_dtypes(include='number')\n",
    "X_test_cat = X_test.select_dtypes(exclude='number')\n",
    "\n",
    "X_test_cat = pd.get_dummies(X_test_cat)\n",
    "X_test_num = (X_test_num - X_test_num.mean()) / X_test_num.std()\n",
    "\n",
    "X_test = pd.concat([X_test_num, X_test_cat], axis=1)"
   ]
  },
  {
   "cell_type": "code",
   "execution_count": 7,
   "id": "b303ae55",
   "metadata": {},
   "outputs": [
    {
     "name": "stdout",
     "output_type": "stream",
     "text": [
      "(1244, 18)\n"
     ]
    },
    {
     "data": {
      "text/html": [
       "<div>\n",
       "<style scoped>\n",
       "    .dataframe tbody tr th:only-of-type {\n",
       "        vertical-align: middle;\n",
       "    }\n",
       "\n",
       "    .dataframe tbody tr th {\n",
       "        vertical-align: top;\n",
       "    }\n",
       "\n",
       "    .dataframe thead th {\n",
       "        text-align: right;\n",
       "    }\n",
       "</style>\n",
       "<table border=\"1\" class=\"dataframe\">\n",
       "  <thead>\n",
       "    <tr style=\"text-align: right;\">\n",
       "      <th></th>\n",
       "      <th>Number.of.Bags</th>\n",
       "      <th>Moisture</th>\n",
       "      <th>Category.One.Defects</th>\n",
       "      <th>Quakers</th>\n",
       "      <th>Category.Two.Defects</th>\n",
       "      <th>altitude_low_meters</th>\n",
       "      <th>altitude_high_meters</th>\n",
       "      <th>Species_Arabica</th>\n",
       "      <th>Species_Robusta</th>\n",
       "      <th>Processing.Method_Natural / Dry</th>\n",
       "      <th>Processing.Method_Other</th>\n",
       "      <th>Processing.Method_Pulped natural / honey</th>\n",
       "      <th>Processing.Method_Semi-washed / Semi-pulped</th>\n",
       "      <th>Processing.Method_Washed / Wet</th>\n",
       "      <th>Color_Blue-Green</th>\n",
       "      <th>Color_Bluish-Green</th>\n",
       "      <th>Color_Green</th>\n",
       "      <th>Color_None</th>\n",
       "    </tr>\n",
       "  </thead>\n",
       "  <tbody>\n",
       "    <tr>\n",
       "      <th>1034</th>\n",
       "      <td>-0.807907</td>\n",
       "      <td>-0.039962</td>\n",
       "      <td>-0.269278</td>\n",
       "      <td>-0.175172</td>\n",
       "      <td>-0.744302</td>\n",
       "      <td>-0.129194</td>\n",
       "      <td>-0.114575</td>\n",
       "      <td>1</td>\n",
       "      <td>0</td>\n",
       "      <td>0</td>\n",
       "      <td>0</td>\n",
       "      <td>0</td>\n",
       "      <td>0</td>\n",
       "      <td>1</td>\n",
       "      <td>1</td>\n",
       "      <td>0</td>\n",
       "      <td>0</td>\n",
       "      <td>0</td>\n",
       "    </tr>\n",
       "    <tr>\n",
       "      <th>124</th>\n",
       "      <td>-1.126193</td>\n",
       "      <td>1.196664</td>\n",
       "      <td>0.102511</td>\n",
       "      <td>-0.175172</td>\n",
       "      <td>0.372432</td>\n",
       "      <td>-0.134124</td>\n",
       "      <td>-0.136221</td>\n",
       "      <td>1</td>\n",
       "      <td>0</td>\n",
       "      <td>1</td>\n",
       "      <td>0</td>\n",
       "      <td>0</td>\n",
       "      <td>0</td>\n",
       "      <td>0</td>\n",
       "      <td>0</td>\n",
       "      <td>0</td>\n",
       "      <td>0</td>\n",
       "      <td>1</td>\n",
       "    </tr>\n",
       "    <tr>\n",
       "      <th>184</th>\n",
       "      <td>-0.855650</td>\n",
       "      <td>0.207363</td>\n",
       "      <td>-0.269278</td>\n",
       "      <td>-0.175172</td>\n",
       "      <td>-0.465119</td>\n",
       "      <td>-0.091589</td>\n",
       "      <td>-0.093681</td>\n",
       "      <td>1</td>\n",
       "      <td>0</td>\n",
       "      <td>0</td>\n",
       "      <td>0</td>\n",
       "      <td>0</td>\n",
       "      <td>0</td>\n",
       "      <td>1</td>\n",
       "      <td>0</td>\n",
       "      <td>0</td>\n",
       "      <td>1</td>\n",
       "      <td>0</td>\n",
       "    </tr>\n",
       "  </tbody>\n",
       "</table>\n",
       "</div>"
      ],
      "text/plain": [
       "      Number.of.Bags  Moisture  Category.One.Defects   Quakers  \\\n",
       "1034       -0.807907 -0.039962             -0.269278 -0.175172   \n",
       "124        -1.126193  1.196664              0.102511 -0.175172   \n",
       "184        -0.855650  0.207363             -0.269278 -0.175172   \n",
       "\n",
       "      Category.Two.Defects  altitude_low_meters  altitude_high_meters  \\\n",
       "1034             -0.744302            -0.129194             -0.114575   \n",
       "124               0.372432            -0.134124             -0.136221   \n",
       "184              -0.465119            -0.091589             -0.093681   \n",
       "\n",
       "      Species_Arabica  Species_Robusta  Processing.Method_Natural / Dry  \\\n",
       "1034                1                0                                0   \n",
       "124                 1                0                                1   \n",
       "184                 1                0                                0   \n",
       "\n",
       "      Processing.Method_Other  Processing.Method_Pulped natural / honey  \\\n",
       "1034                        0                                         0   \n",
       "124                         0                                         0   \n",
       "184                         0                                         0   \n",
       "\n",
       "      Processing.Method_Semi-washed / Semi-pulped  \\\n",
       "1034                                            0   \n",
       "124                                             0   \n",
       "184                                             0   \n",
       "\n",
       "      Processing.Method_Washed / Wet  Color_Blue-Green  Color_Bluish-Green  \\\n",
       "1034                               1                 1                   0   \n",
       "124                                0                 0                   0   \n",
       "184                                1                 0                   0   \n",
       "\n",
       "      Color_Green  Color_None  \n",
       "1034            0           0  \n",
       "124             0           1  \n",
       "184             1           0  "
      ]
     },
     "execution_count": 7,
     "metadata": {},
     "output_type": "execute_result"
    }
   ],
   "source": [
    "print(X_train.shape)\n",
    "X_train.head(3)"
   ]
  },
  {
   "cell_type": "code",
   "execution_count": 8,
   "id": "dd7f093a",
   "metadata": {},
   "outputs": [
    {
     "data": {
      "text/plain": [
       "very good    161\n",
       "excellent    161\n",
       "Name: quality, dtype: int64"
      ]
     },
     "execution_count": 8,
     "metadata": {},
     "output_type": "execute_result"
    }
   ],
   "source": [
    "y_test.value_counts()"
   ]
  },
  {
   "cell_type": "code",
   "execution_count": 9,
   "id": "d0edb1e3",
   "metadata": {},
   "outputs": [
    {
     "data": {
      "text/plain": [
       "GridSearchCV(estimator=DecisionTreeClassifier(),\n",
       "             param_grid={'max_depth': array([ 1,  2,  3,  4,  5,  6,  7,  8,  9, 10, 11, 12, 13, 14, 15, 16, 17,\n",
       "       18, 19, 20, 21, 22, 23, 24])},\n",
       "             return_train_score=True)"
      ]
     },
     "execution_count": 9,
     "metadata": {},
     "output_type": "execute_result"
    }
   ],
   "source": [
    "# Now let's set up our DecisionTreeClassifier\n",
    "grid = {'max_depth': np.arange(1, 25)}\n",
    "\n",
    "Tree = DecisionTreeClassifier()\n",
    "TreeCV = GridSearchCV(Tree, param_grid=grid, return_train_score=True)\n",
    "\n",
    "TreeCV.fit(X_train, y_train)"
   ]
  },
  {
   "cell_type": "code",
   "execution_count": 10,
   "id": "00b2b13f",
   "metadata": {},
   "outputs": [
    {
     "name": "stdout",
     "output_type": "stream",
     "text": [
      "best depth 20\n",
      "validation accuracy 0.937\n"
     ]
    }
   ],
   "source": [
    "print('best depth', TreeCV.best_params_['max_depth'])\n",
    "print('validation accuracy', TreeCV.best_score_.round(3))"
   ]
  },
  {
   "cell_type": "code",
   "execution_count": 11,
   "id": "47ffd298",
   "metadata": {},
   "outputs": [
    {
     "name": "stdout",
     "output_type": "stream",
     "text": [
      "0.717\n"
     ]
    }
   ],
   "source": [
    "best_tree = DecisionTreeClassifier(max_depth=TreeCV.best_params_['max_depth'])\n",
    "best_tree.fit(X_train, y_train)\n",
    "print(best_tree.score(X_test, y_test).round(3))"
   ]
  },
  {
   "cell_type": "code",
   "execution_count": 12,
   "id": "2887fc3e",
   "metadata": {},
   "outputs": [
    {
     "name": "stdout",
     "output_type": "stream",
     "text": [
      "(1244, 18)\n"
     ]
    }
   ],
   "source": [
    "print(X_train.shape)"
   ]
  },
  {
   "cell_type": "markdown",
   "id": "da1aae09",
   "metadata": {},
   "source": [
    "# It's random forest time"
   ]
  },
  {
   "cell_type": "code",
   "execution_count": 36,
   "id": "3da26530",
   "metadata": {},
   "outputs": [],
   "source": [
    "# Luckily, our training and test data is already defined in terms of targets and features\n",
    "\n",
    "grid = {'n_estimators': np.arange(10, 200, 10), 'max_depth': np.arange(1, 25)}\n",
    "\n",
    "rf = RandomForestClassifier()\n",
    "rfCV = GridSearchCV(rf, param_grid=grid, return_train_score=True, n_jobs=-1)"
   ]
  },
  {
   "cell_type": "code",
   "execution_count": 37,
   "id": "6b5d6f11",
   "metadata": {},
   "outputs": [
    {
     "data": {
      "text/plain": [
       "GridSearchCV(estimator=RandomForestClassifier(), n_jobs=-1,\n",
       "             param_grid={'max_depth': array([ 1,  2,  3,  4,  5,  6,  7,  8,  9, 10, 11, 12, 13, 14, 15, 16, 17,\n",
       "       18, 19, 20, 21, 22, 23, 24]),\n",
       "                         'n_estimators': array([ 10,  20,  30,  40,  50,  60,  70,  80,  90, 100, 110, 120, 130,\n",
       "       140, 150, 160, 170, 180, 190])},\n",
       "             return_train_score=True)"
      ]
     },
     "execution_count": 37,
     "metadata": {},
     "output_type": "execute_result"
    }
   ],
   "source": [
    "rfCV.fit(X_train, y_train)"
   ]
  },
  {
   "cell_type": "code",
   "execution_count": 38,
   "id": "772b58b9",
   "metadata": {},
   "outputs": [
    {
     "name": "stdout",
     "output_type": "stream",
     "text": [
      "n_estimators:  30   max_depth:  20\n",
      "validation accuracy  0.956\n"
     ]
    }
   ],
   "source": [
    "print('n_estimators: ', rfCV.best_params_['n_estimators'], '  max_depth: ', rfCV.best_params_['max_depth'])\n",
    "print('validation accuracy ', rfCV.best_score_.round(3))"
   ]
  },
  {
   "cell_type": "code",
   "execution_count": 39,
   "id": "fe7c7cf8",
   "metadata": {},
   "outputs": [
    {
     "name": "stdout",
     "output_type": "stream",
     "text": [
      "0.994\n",
      "0.618\n"
     ]
    }
   ],
   "source": [
    "# Now let's see how we do \n",
    "best_forest = RandomForestClassifier(n_estimators=rfCV.best_params_['n_estimators'],max_depth=rfCV.best_params_['max_depth'])\n",
    "best_forest.fit(X_train, y_train)\n",
    "print(best_forest.score(X_train, y_train).round(3))\n",
    "print(best_forest.score(X_test, y_test).round(3))"
   ]
  },
  {
   "cell_type": "code",
   "execution_count": 40,
   "id": "4a90db61",
   "metadata": {},
   "outputs": [
    {
     "data": {
      "text/plain": [
       "Category.Two.Defects                           0.202036\n",
       "Number.of.Bags                                 0.171001\n",
       "altitude_high_meters                           0.154773\n",
       "altitude_low_meters                            0.149824\n",
       "Moisture                                       0.130148\n",
       "Category.One.Defects                           0.038026\n",
       "Processing.Method_Washed / Wet                 0.032873\n",
       "Color_None                                     0.022514\n",
       "Quakers                                        0.018337\n",
       "Color_Green                                    0.018312\n",
       "Processing.Method_Natural / Dry                0.015580\n",
       "Color_Bluish-Green                             0.012351\n",
       "Processing.Method_Semi-washed / Semi-pulped    0.011735\n",
       "Color_Blue-Green                               0.011328\n",
       "Processing.Method_Other                        0.004358\n",
       "Species_Arabica                                0.003324\n",
       "Species_Robusta                                0.002626\n",
       "Processing.Method_Pulped natural / honey       0.000856\n",
       "dtype: float64"
      ]
     },
     "execution_count": 40,
     "metadata": {},
     "output_type": "execute_result"
    }
   ],
   "source": [
    "feature_importance = pd.Series(best_forest.feature_importances_, index=X_train.columns)\n",
    "feature_importance.sort_values(ascending=False)"
   ]
  },
  {
   "cell_type": "code",
   "execution_count": 41,
   "id": "99bd7873",
   "metadata": {},
   "outputs": [
    {
     "data": {
      "text/plain": [
       "<AxesSubplot:>"
      ]
     },
     "execution_count": 41,
     "metadata": {},
     "output_type": "execute_result"
    },
    {
     "data": {
      "image/png": "[encoded data removed]",
      "text/plain": [
       "<Figure size 432x288 with 1 Axes>"
      ]
     },
     "metadata": {
      "needs_background": "light"
     },
     "output_type": "display_data"
    }
   ],
   "source": [
    "feature_importance.sort_values().plot.barh(color='salmon')"
   ]
  },
  {
   "cell_type": "code",
   "execution_count": null,
   "id": "36272035",
   "metadata": {},
   "outputs": [],
   "source": []
  }
 ],
 "metadata": {
  "kernelspec": {
   "display_name": "Python 3 (ipykernel)",
   "language": "python",
   "name": "python3"
  },
  "language_info": {
   "codemirror_mode": {
    "name": "ipython",
    "version": 3
   },
   "file_extension": ".py",
   "mimetype": "text/x-python",
   "name": "python",
   "nbconvert_exporter": "python",
   "pygments_lexer": "ipython3",
   "version": "3.7.11"
  }
 },
 "nbformat": 4,
 "nbformat_minor": 5
}
