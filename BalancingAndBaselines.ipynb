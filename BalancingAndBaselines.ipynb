{
 "cells": [
  {
   "cell_type": "code",
   "execution_count": 1,
   "id": "c26eb8de",
   "metadata": {},
   "outputs": [],
   "source": [
    "import pandas as pd\n",
    "import numpy as np\n",
    "from sklearn.model_selection import train_test_split"
   ]
  },
  {
   "cell_type": "code",
   "execution_count": 2,
   "id": "ef478961",
   "metadata": {},
   "outputs": [
    {
     "data": {
      "text/html": [
       "<div>\n",
       "<style scoped>\n",
       "    .dataframe tbody tr th:only-of-type {\n",
       "        vertical-align: middle;\n",
       "    }\n",
       "\n",
       "    .dataframe tbody tr th {\n",
       "        vertical-align: top;\n",
       "    }\n",
       "\n",
       "    .dataframe thead th {\n",
       "        text-align: right;\n",
       "    }\n",
       "</style>\n",
       "<table border=\"1\" class=\"dataframe\">\n",
       "  <thead>\n",
       "    <tr style=\"text-align: right;\">\n",
       "      <th></th>\n",
       "      <th>Species</th>\n",
       "      <th>Country.of.Origin</th>\n",
       "      <th>Number.of.Bags</th>\n",
       "      <th>In.Country.Partner</th>\n",
       "      <th>Variety</th>\n",
       "      <th>Processing.Method</th>\n",
       "      <th>Aroma</th>\n",
       "      <th>Flavor</th>\n",
       "      <th>Aftertaste</th>\n",
       "      <th>Acidity</th>\n",
       "      <th>...</th>\n",
       "      <th>Sweetness</th>\n",
       "      <th>Cupper.Points</th>\n",
       "      <th>Total.Cup.Points</th>\n",
       "      <th>Moisture</th>\n",
       "      <th>Category.One.Defects</th>\n",
       "      <th>Quakers</th>\n",
       "      <th>Color</th>\n",
       "      <th>Category.Two.Defects</th>\n",
       "      <th>altitude_low_meters</th>\n",
       "      <th>altitude_high_meters</th>\n",
       "    </tr>\n",
       "  </thead>\n",
       "  <tbody>\n",
       "    <tr>\n",
       "      <th>0</th>\n",
       "      <td>Arabica</td>\n",
       "      <td>Ethiopia</td>\n",
       "      <td>300</td>\n",
       "      <td>METAD Agricultural Development plc</td>\n",
       "      <td>Other</td>\n",
       "      <td>Washed / Wet</td>\n",
       "      <td>8.75</td>\n",
       "      <td>8.67</td>\n",
       "      <td>8.50</td>\n",
       "      <td>8.58</td>\n",
       "      <td>...</td>\n",
       "      <td>10.0</td>\n",
       "      <td>8.58</td>\n",
       "      <td>89.92</td>\n",
       "      <td>0.12</td>\n",
       "      <td>0</td>\n",
       "      <td>0.0</td>\n",
       "      <td>Green</td>\n",
       "      <td>1</td>\n",
       "      <td>1950.0</td>\n",
       "      <td>2200.0</td>\n",
       "    </tr>\n",
       "    <tr>\n",
       "      <th>1</th>\n",
       "      <td>Arabica</td>\n",
       "      <td>Ethiopia</td>\n",
       "      <td>300</td>\n",
       "      <td>METAD Agricultural Development plc</td>\n",
       "      <td>Other</td>\n",
       "      <td>Washed / Wet</td>\n",
       "      <td>8.25</td>\n",
       "      <td>8.50</td>\n",
       "      <td>8.25</td>\n",
       "      <td>8.50</td>\n",
       "      <td>...</td>\n",
       "      <td>10.0</td>\n",
       "      <td>8.58</td>\n",
       "      <td>88.83</td>\n",
       "      <td>0.12</td>\n",
       "      <td>0</td>\n",
       "      <td>0.0</td>\n",
       "      <td>Green</td>\n",
       "      <td>2</td>\n",
       "      <td>1950.0</td>\n",
       "      <td>2200.0</td>\n",
       "    </tr>\n",
       "    <tr>\n",
       "      <th>2</th>\n",
       "      <td>Arabica</td>\n",
       "      <td>Ethiopia</td>\n",
       "      <td>50</td>\n",
       "      <td>METAD Agricultural Development plc</td>\n",
       "      <td>Other</td>\n",
       "      <td>Natural / Dry</td>\n",
       "      <td>8.08</td>\n",
       "      <td>8.58</td>\n",
       "      <td>8.50</td>\n",
       "      <td>8.50</td>\n",
       "      <td>...</td>\n",
       "      <td>10.0</td>\n",
       "      <td>8.50</td>\n",
       "      <td>88.25</td>\n",
       "      <td>0.10</td>\n",
       "      <td>0</td>\n",
       "      <td>0.0</td>\n",
       "      <td>Green</td>\n",
       "      <td>4</td>\n",
       "      <td>1795.0</td>\n",
       "      <td>1850.0</td>\n",
       "    </tr>\n",
       "    <tr>\n",
       "      <th>3</th>\n",
       "      <td>Arabica</td>\n",
       "      <td>China</td>\n",
       "      <td>3</td>\n",
       "      <td>Yunnan Coffee Exchange</td>\n",
       "      <td>Catimor</td>\n",
       "      <td>Washed / Wet</td>\n",
       "      <td>8.42</td>\n",
       "      <td>8.25</td>\n",
       "      <td>8.08</td>\n",
       "      <td>8.17</td>\n",
       "      <td>...</td>\n",
       "      <td>10.0</td>\n",
       "      <td>8.42</td>\n",
       "      <td>87.25</td>\n",
       "      <td>0.10</td>\n",
       "      <td>0</td>\n",
       "      <td>0.0</td>\n",
       "      <td>Green</td>\n",
       "      <td>0</td>\n",
       "      <td>1450.0</td>\n",
       "      <td>1450.0</td>\n",
       "    </tr>\n",
       "    <tr>\n",
       "      <th>4</th>\n",
       "      <td>Arabica</td>\n",
       "      <td>United States</td>\n",
       "      <td>10</td>\n",
       "      <td>Almacafé</td>\n",
       "      <td>Other</td>\n",
       "      <td>Washed / Wet</td>\n",
       "      <td>8.00</td>\n",
       "      <td>8.25</td>\n",
       "      <td>8.08</td>\n",
       "      <td>8.50</td>\n",
       "      <td>...</td>\n",
       "      <td>10.0</td>\n",
       "      <td>8.17</td>\n",
       "      <td>87.25</td>\n",
       "      <td>0.00</td>\n",
       "      <td>0</td>\n",
       "      <td>0.0</td>\n",
       "      <td>None</td>\n",
       "      <td>0</td>\n",
       "      <td>2019.0</td>\n",
       "      <td>2019.0</td>\n",
       "    </tr>\n",
       "    <tr>\n",
       "      <th>5</th>\n",
       "      <td>Arabica</td>\n",
       "      <td>Costa Rica</td>\n",
       "      <td>250</td>\n",
       "      <td>Specialty Coffee Association</td>\n",
       "      <td>Caturra</td>\n",
       "      <td>Washed / Wet</td>\n",
       "      <td>8.08</td>\n",
       "      <td>8.25</td>\n",
       "      <td>8.00</td>\n",
       "      <td>8.17</td>\n",
       "      <td>...</td>\n",
       "      <td>10.0</td>\n",
       "      <td>8.33</td>\n",
       "      <td>87.17</td>\n",
       "      <td>0.11</td>\n",
       "      <td>0</td>\n",
       "      <td>0.0</td>\n",
       "      <td>Green</td>\n",
       "      <td>2</td>\n",
       "      <td>1300.0</td>\n",
       "      <td>1300.0</td>\n",
       "    </tr>\n",
       "    <tr>\n",
       "      <th>6</th>\n",
       "      <td>Arabica</td>\n",
       "      <td>Mexico</td>\n",
       "      <td>14</td>\n",
       "      <td>AMECAFE</td>\n",
       "      <td>Other</td>\n",
       "      <td>Washed / Wet</td>\n",
       "      <td>8.17</td>\n",
       "      <td>8.25</td>\n",
       "      <td>8.17</td>\n",
       "      <td>8.00</td>\n",
       "      <td>...</td>\n",
       "      <td>10.0</td>\n",
       "      <td>8.58</td>\n",
       "      <td>87.17</td>\n",
       "      <td>0.13</td>\n",
       "      <td>0</td>\n",
       "      <td>0.0</td>\n",
       "      <td>Green</td>\n",
       "      <td>0</td>\n",
       "      <td>1320.0</td>\n",
       "      <td>1320.0</td>\n",
       "    </tr>\n",
       "    <tr>\n",
       "      <th>7</th>\n",
       "      <td>Arabica</td>\n",
       "      <td>Brazil</td>\n",
       "      <td>3</td>\n",
       "      <td>NUCOFFEE</td>\n",
       "      <td>Bourbon</td>\n",
       "      <td>Natural / Dry</td>\n",
       "      <td>8.50</td>\n",
       "      <td>8.50</td>\n",
       "      <td>8.00</td>\n",
       "      <td>8.00</td>\n",
       "      <td>...</td>\n",
       "      <td>10.0</td>\n",
       "      <td>7.92</td>\n",
       "      <td>86.92</td>\n",
       "      <td>0.12</td>\n",
       "      <td>0</td>\n",
       "      <td>0.0</td>\n",
       "      <td>Green</td>\n",
       "      <td>2</td>\n",
       "      <td>1250.0</td>\n",
       "      <td>1250.0</td>\n",
       "    </tr>\n",
       "    <tr>\n",
       "      <th>8</th>\n",
       "      <td>Arabica</td>\n",
       "      <td>Uganda</td>\n",
       "      <td>100</td>\n",
       "      <td>Uganda Coffee Development Authority</td>\n",
       "      <td>SL14</td>\n",
       "      <td>Washed / Wet</td>\n",
       "      <td>8.42</td>\n",
       "      <td>8.17</td>\n",
       "      <td>8.17</td>\n",
       "      <td>8.17</td>\n",
       "      <td>...</td>\n",
       "      <td>10.0</td>\n",
       "      <td>8.17</td>\n",
       "      <td>86.83</td>\n",
       "      <td>0.12</td>\n",
       "      <td>0</td>\n",
       "      <td>0.0</td>\n",
       "      <td>Green</td>\n",
       "      <td>1</td>\n",
       "      <td>1950.0</td>\n",
       "      <td>1950.0</td>\n",
       "    </tr>\n",
       "    <tr>\n",
       "      <th>9</th>\n",
       "      <td>Arabica</td>\n",
       "      <td>Taiwan</td>\n",
       "      <td>20</td>\n",
       "      <td>Specialty Coffee Association</td>\n",
       "      <td>Sumatra</td>\n",
       "      <td>Pulped natural / honey</td>\n",
       "      <td>8.00</td>\n",
       "      <td>8.00</td>\n",
       "      <td>8.00</td>\n",
       "      <td>8.25</td>\n",
       "      <td>...</td>\n",
       "      <td>10.0</td>\n",
       "      <td>8.17</td>\n",
       "      <td>86.58</td>\n",
       "      <td>0.00</td>\n",
       "      <td>0</td>\n",
       "      <td>0.0</td>\n",
       "      <td>Green</td>\n",
       "      <td>0</td>\n",
       "      <td>1200.0</td>\n",
       "      <td>1200.0</td>\n",
       "    </tr>\n",
       "  </tbody>\n",
       "</table>\n",
       "<p>10 rows × 24 columns</p>\n",
       "</div>"
      ],
      "text/plain": [
       "   Species Country.of.Origin  Number.of.Bags  \\\n",
       "0  Arabica          Ethiopia             300   \n",
       "1  Arabica          Ethiopia             300   \n",
       "2  Arabica          Ethiopia              50   \n",
       "3  Arabica             China               3   \n",
       "4  Arabica     United States              10   \n",
       "5  Arabica        Costa Rica             250   \n",
       "6  Arabica            Mexico              14   \n",
       "7  Arabica            Brazil               3   \n",
       "8  Arabica            Uganda             100   \n",
       "9  Arabica            Taiwan              20   \n",
       "\n",
       "                    In.Country.Partner  Variety       Processing.Method  \\\n",
       "0   METAD Agricultural Development plc    Other            Washed / Wet   \n",
       "1   METAD Agricultural Development plc    Other            Washed / Wet   \n",
       "2   METAD Agricultural Development plc    Other           Natural / Dry   \n",
       "3               Yunnan Coffee Exchange  Catimor            Washed / Wet   \n",
       "4                             Almacafé    Other            Washed / Wet   \n",
       "5         Specialty Coffee Association  Caturra            Washed / Wet   \n",
       "6                              AMECAFE    Other            Washed / Wet   \n",
       "7                             NUCOFFEE  Bourbon           Natural / Dry   \n",
       "8  Uganda Coffee Development Authority     SL14            Washed / Wet   \n",
       "9         Specialty Coffee Association  Sumatra  Pulped natural / honey   \n",
       "\n",
       "   Aroma  Flavor  Aftertaste  Acidity  ...  Sweetness  Cupper.Points  \\\n",
       "0   8.75    8.67        8.50     8.58  ...       10.0           8.58   \n",
       "1   8.25    8.50        8.25     8.50  ...       10.0           8.58   \n",
       "2   8.08    8.58        8.50     8.50  ...       10.0           8.50   \n",
       "3   8.42    8.25        8.08     8.17  ...       10.0           8.42   \n",
       "4   8.00    8.25        8.08     8.50  ...       10.0           8.17   \n",
       "5   8.08    8.25        8.00     8.17  ...       10.0           8.33   \n",
       "6   8.17    8.25        8.17     8.00  ...       10.0           8.58   \n",
       "7   8.50    8.50        8.00     8.00  ...       10.0           7.92   \n",
       "8   8.42    8.17        8.17     8.17  ...       10.0           8.17   \n",
       "9   8.00    8.00        8.00     8.25  ...       10.0           8.17   \n",
       "\n",
       "   Total.Cup.Points  Moisture  Category.One.Defects  Quakers  Color  \\\n",
       "0             89.92      0.12                     0      0.0  Green   \n",
       "1             88.83      0.12                     0      0.0  Green   \n",
       "2             88.25      0.10                     0      0.0  Green   \n",
       "3             87.25      0.10                     0      0.0  Green   \n",
       "4             87.25      0.00                     0      0.0   None   \n",
       "5             87.17      0.11                     0      0.0  Green   \n",
       "6             87.17      0.13                     0      0.0  Green   \n",
       "7             86.92      0.12                     0      0.0  Green   \n",
       "8             86.83      0.12                     0      0.0  Green   \n",
       "9             86.58      0.00                     0      0.0  Green   \n",
       "\n",
       "   Category.Two.Defects  altitude_low_meters  altitude_high_meters  \n",
       "0                     1               1950.0                2200.0  \n",
       "1                     2               1950.0                2200.0  \n",
       "2                     4               1795.0                1850.0  \n",
       "3                     0               1450.0                1450.0  \n",
       "4                     0               2019.0                2019.0  \n",
       "5                     2               1300.0                1300.0  \n",
       "6                     0               1320.0                1320.0  \n",
       "7                     2               1250.0                1250.0  \n",
       "8                     1               1950.0                1950.0  \n",
       "9                     0               1200.0                1200.0  \n",
       "\n",
       "[10 rows x 24 columns]"
      ]
     },
     "execution_count": 2,
     "metadata": {},
     "output_type": "execute_result"
    }
   ],
   "source": [
    "df = pd.read_csv('/home/hamonme/Final Project/merged_cleaned.csv')\n",
    "df.head(10)"
   ]
  },
  {
   "cell_type": "code",
   "execution_count": 3,
   "id": "b19912a1",
   "metadata": {},
   "outputs": [
    {
     "data": {
      "text/plain": [
       "Index(['Species', 'Country.of.Origin', 'Number.of.Bags', 'In.Country.Partner',\n",
       "       'Variety', 'Processing.Method', 'Aroma', 'Flavor', 'Aftertaste',\n",
       "       'Acidity', 'Body', 'Balance', 'Uniformity', 'Clean.Cup', 'Sweetness',\n",
       "       'Cupper.Points', 'Total.Cup.Points', 'Moisture', 'Category.One.Defects',\n",
       "       'Quakers', 'Color', 'Category.Two.Defects', 'altitude_low_meters',\n",
       "       'altitude_high_meters'],\n",
       "      dtype='object')"
      ]
     },
     "execution_count": 3,
     "metadata": {},
     "output_type": "execute_result"
    }
   ],
   "source": [
    "df.columns"
   ]
  },
  {
   "cell_type": "code",
   "execution_count": 4,
   "id": "8c095fa3",
   "metadata": {},
   "outputs": [
    {
     "name": "stdout",
     "output_type": "stream",
     "text": [
      "82.05199558985655\n"
     ]
    },
    {
     "data": {
      "text/plain": [
       "6.727635819164674"
      ]
     },
     "execution_count": 4,
     "metadata": {},
     "output_type": "execute_result"
    }
   ],
   "source": [
    "y = df['Total.Cup.Points']\n",
    "mean = y.mean()\n",
    "print(mean)\n",
    "\n",
    "err = (y-mean)**2\n",
    "mse = err.sum()/len(y)\n",
    "mse"
   ]
  },
  {
   "cell_type": "markdown",
   "id": "92daa365",
   "metadata": {},
   "source": [
    "## Baseline MSE for regression is 6.72"
   ]
  },
  {
   "cell_type": "code",
   "execution_count": 5,
   "id": "2c53bd1a",
   "metadata": {
    "scrolled": true
   },
   "outputs": [
    {
     "data": {
      "text/plain": [
       "array([[<AxesSubplot:title={'center':'Total.Cup.Points'}>]], dtype=object)"
      ]
     },
     "execution_count": 5,
     "metadata": {},
     "output_type": "execute_result"
    },
    {
     "data": {
      "image/png": "[encoded data removed]",
      "text/plain": [
       "<Figure size 432x288 with 1 Axes>"
      ]
     },
     "metadata": {
      "needs_background": "light"
     },
     "output_type": "display_data"
    }
   ],
   "source": [
    "df.hist('Total.Cup.Points')"
   ]
  },
  {
   "cell_type": "markdown",
   "id": "5a89dd11",
   "metadata": {},
   "source": [
    "# Binary Classification"
   ]
  },
  {
   "cell_type": "code",
   "execution_count": 6,
   "id": "dbcbf649",
   "metadata": {},
   "outputs": [],
   "source": [
    "# bin into two classes\n",
    "bins = [0,80,100]\n",
    "classes = ['very good','excellent']\n",
    "df['quality'] =  pd.cut(df['Total.Cup.Points'],bins,labels=classes)\n"
   ]
  },
  {
   "cell_type": "code",
   "execution_count": 7,
   "id": "b7451e3a",
   "metadata": {},
   "outputs": [],
   "source": [
    "[df, df_test] = train_test_split(df, train_size=0.8,random_state=0)\n",
    "df_test.to_csv('./test_data.csv', index=False)"
   ]
  },
  {
   "cell_type": "code",
   "execution_count": 8,
   "id": "2ef7e596",
   "metadata": {},
   "outputs": [],
   "source": [
    "#pip install -U imbalanced-learn\n",
    "from imblearn.over_sampling import SMOTE, SMOTENC, RandomOverSampler\n",
    "from imblearn.under_sampling import RandomUnderSampler"
   ]
  },
  {
   "cell_type": "code",
   "execution_count": 9,
   "id": "3025a4d0",
   "metadata": {},
   "outputs": [
    {
     "data": {
      "text/html": [
       "<div>\n",
       "<style scoped>\n",
       "    .dataframe tbody tr th:only-of-type {\n",
       "        vertical-align: middle;\n",
       "    }\n",
       "\n",
       "    .dataframe tbody tr th {\n",
       "        vertical-align: top;\n",
       "    }\n",
       "\n",
       "    .dataframe thead th {\n",
       "        text-align: right;\n",
       "    }\n",
       "</style>\n",
       "<table border=\"1\" class=\"dataframe\">\n",
       "  <thead>\n",
       "    <tr style=\"text-align: right;\">\n",
       "      <th></th>\n",
       "      <th>Species</th>\n",
       "      <th>Country.of.Origin</th>\n",
       "      <th>Number.of.Bags</th>\n",
       "      <th>In.Country.Partner</th>\n",
       "      <th>Variety</th>\n",
       "      <th>Processing.Method</th>\n",
       "      <th>Aroma</th>\n",
       "      <th>Flavor</th>\n",
       "      <th>Aftertaste</th>\n",
       "      <th>Acidity</th>\n",
       "      <th>...</th>\n",
       "      <th>Sweetness</th>\n",
       "      <th>Cupper.Points</th>\n",
       "      <th>Total.Cup.Points</th>\n",
       "      <th>Moisture</th>\n",
       "      <th>Category.One.Defects</th>\n",
       "      <th>Quakers</th>\n",
       "      <th>Color</th>\n",
       "      <th>Category.Two.Defects</th>\n",
       "      <th>altitude_low_meters</th>\n",
       "      <th>altitude_high_meters</th>\n",
       "    </tr>\n",
       "  </thead>\n",
       "  <tbody>\n",
       "    <tr>\n",
       "      <th>372</th>\n",
       "      <td>Arabica</td>\n",
       "      <td>Tanzania, United Republic Of</td>\n",
       "      <td>300</td>\n",
       "      <td>Tanzanian Coffee Board</td>\n",
       "      <td>Arusha</td>\n",
       "      <td>Washed / Wet</td>\n",
       "      <td>7.67</td>\n",
       "      <td>7.50</td>\n",
       "      <td>7.33</td>\n",
       "      <td>7.25</td>\n",
       "      <td>...</td>\n",
       "      <td>10.0</td>\n",
       "      <td>7.75</td>\n",
       "      <td>82.83</td>\n",
       "      <td>0.11</td>\n",
       "      <td>0</td>\n",
       "      <td>0.0</td>\n",
       "      <td>Green</td>\n",
       "      <td>5</td>\n",
       "      <td>1400.0</td>\n",
       "      <td>1400.0</td>\n",
       "    </tr>\n",
       "    <tr>\n",
       "      <th>304</th>\n",
       "      <td>Arabica</td>\n",
       "      <td>Brazil</td>\n",
       "      <td>25</td>\n",
       "      <td>NUCOFFEE</td>\n",
       "      <td>Mundo Novo</td>\n",
       "      <td>Semi-washed / Semi-pulped</td>\n",
       "      <td>7.75</td>\n",
       "      <td>7.50</td>\n",
       "      <td>7.58</td>\n",
       "      <td>7.50</td>\n",
       "      <td>...</td>\n",
       "      <td>10.0</td>\n",
       "      <td>7.58</td>\n",
       "      <td>83.17</td>\n",
       "      <td>0.12</td>\n",
       "      <td>0</td>\n",
       "      <td>0.0</td>\n",
       "      <td>Blue-Green</td>\n",
       "      <td>3</td>\n",
       "      <td>1000.0</td>\n",
       "      <td>1000.0</td>\n",
       "    </tr>\n",
       "    <tr>\n",
       "      <th>523</th>\n",
       "      <td>Arabica</td>\n",
       "      <td>Tanzania, United Republic Of</td>\n",
       "      <td>1</td>\n",
       "      <td>Africa Fine Coffee Association</td>\n",
       "      <td>Other</td>\n",
       "      <td>Washed / Wet</td>\n",
       "      <td>7.42</td>\n",
       "      <td>7.50</td>\n",
       "      <td>7.50</td>\n",
       "      <td>7.33</td>\n",
       "      <td>...</td>\n",
       "      <td>10.0</td>\n",
       "      <td>7.50</td>\n",
       "      <td>82.08</td>\n",
       "      <td>0.12</td>\n",
       "      <td>0</td>\n",
       "      <td>0.0</td>\n",
       "      <td>Green</td>\n",
       "      <td>3</td>\n",
       "      <td>1500.0</td>\n",
       "      <td>1700.0</td>\n",
       "    </tr>\n",
       "    <tr>\n",
       "      <th>85</th>\n",
       "      <td>Arabica</td>\n",
       "      <td>Costa Rica</td>\n",
       "      <td>250</td>\n",
       "      <td>Specialty Coffee Association of Costa Rica</td>\n",
       "      <td>Caturra</td>\n",
       "      <td>Washed / Wet</td>\n",
       "      <td>7.92</td>\n",
       "      <td>7.83</td>\n",
       "      <td>7.83</td>\n",
       "      <td>7.83</td>\n",
       "      <td>...</td>\n",
       "      <td>10.0</td>\n",
       "      <td>7.92</td>\n",
       "      <td>84.50</td>\n",
       "      <td>0.11</td>\n",
       "      <td>0</td>\n",
       "      <td>0.0</td>\n",
       "      <td>Green</td>\n",
       "      <td>0</td>\n",
       "      <td>1700.0</td>\n",
       "      <td>1700.0</td>\n",
       "    </tr>\n",
       "    <tr>\n",
       "      <th>501</th>\n",
       "      <td>Arabica</td>\n",
       "      <td>Colombia</td>\n",
       "      <td>100</td>\n",
       "      <td>Almacafé</td>\n",
       "      <td>Caturra</td>\n",
       "      <td>Washed / Wet</td>\n",
       "      <td>7.67</td>\n",
       "      <td>7.33</td>\n",
       "      <td>7.33</td>\n",
       "      <td>7.33</td>\n",
       "      <td>...</td>\n",
       "      <td>10.0</td>\n",
       "      <td>7.58</td>\n",
       "      <td>82.25</td>\n",
       "      <td>0.11</td>\n",
       "      <td>0</td>\n",
       "      <td>0.0</td>\n",
       "      <td>Green</td>\n",
       "      <td>0</td>\n",
       "      <td>1600.0</td>\n",
       "      <td>1950.0</td>\n",
       "    </tr>\n",
       "  </tbody>\n",
       "</table>\n",
       "<p>5 rows × 24 columns</p>\n",
       "</div>"
      ],
      "text/plain": [
       "     Species             Country.of.Origin  Number.of.Bags  \\\n",
       "372  Arabica  Tanzania, United Republic Of             300   \n",
       "304  Arabica                        Brazil              25   \n",
       "523  Arabica  Tanzania, United Republic Of               1   \n",
       "85   Arabica                    Costa Rica             250   \n",
       "501  Arabica                      Colombia             100   \n",
       "\n",
       "                             In.Country.Partner     Variety  \\\n",
       "372                      Tanzanian Coffee Board      Arusha   \n",
       "304                                    NUCOFFEE  Mundo Novo   \n",
       "523              Africa Fine Coffee Association       Other   \n",
       "85   Specialty Coffee Association of Costa Rica     Caturra   \n",
       "501                                    Almacafé     Caturra   \n",
       "\n",
       "             Processing.Method  Aroma  Flavor  Aftertaste  Acidity  ...  \\\n",
       "372               Washed / Wet   7.67    7.50        7.33     7.25  ...   \n",
       "304  Semi-washed / Semi-pulped   7.75    7.50        7.58     7.50  ...   \n",
       "523               Washed / Wet   7.42    7.50        7.50     7.33  ...   \n",
       "85                Washed / Wet   7.92    7.83        7.83     7.83  ...   \n",
       "501               Washed / Wet   7.67    7.33        7.33     7.33  ...   \n",
       "\n",
       "     Sweetness  Cupper.Points  Total.Cup.Points  Moisture  \\\n",
       "372       10.0           7.75             82.83      0.11   \n",
       "304       10.0           7.58             83.17      0.12   \n",
       "523       10.0           7.50             82.08      0.12   \n",
       "85        10.0           7.92             84.50      0.11   \n",
       "501       10.0           7.58             82.25      0.11   \n",
       "\n",
       "     Category.One.Defects  Quakers       Color  Category.Two.Defects  \\\n",
       "372                     0      0.0       Green                     5   \n",
       "304                     0      0.0  Blue-Green                     3   \n",
       "523                     0      0.0       Green                     3   \n",
       "85                      0      0.0       Green                     0   \n",
       "501                     0      0.0       Green                     0   \n",
       "\n",
       "     altitude_low_meters  altitude_high_meters  \n",
       "372               1400.0                1400.0  \n",
       "304               1000.0                1000.0  \n",
       "523               1500.0                1700.0  \n",
       "85                1700.0                1700.0  \n",
       "501               1600.0                1950.0  \n",
       "\n",
       "[5 rows x 24 columns]"
      ]
     },
     "execution_count": 9,
     "metadata": {},
     "output_type": "execute_result"
    }
   ],
   "source": [
    "X = df.drop('Total.Cup.Points',axis=1)\n",
    "X = df.drop('quality',axis=1)\n",
    "#X = df.select_dtypes(include=np.number)\n",
    "y = df['quality']\n",
    "X.head()"
   ]
  },
  {
   "cell_type": "code",
   "execution_count": 10,
   "id": "ab1ee041",
   "metadata": {},
   "outputs": [
    {
     "data": {
      "text/plain": [
       "<AxesSubplot:>"
      ]
     },
     "execution_count": 10,
     "metadata": {},
     "output_type": "execute_result"
    },
    {
     "data": {
      "image/png": "[encoded data removed]",
      "text/plain": [
       "<Figure size 432x288 with 1 Axes>"
      ]
     },
     "metadata": {
      "needs_background": "light"
     },
     "output_type": "display_data"
    }
   ],
   "source": [
    "y.hist()"
   ]
  },
  {
   "cell_type": "code",
   "execution_count": 11,
   "id": "cc905560",
   "metadata": {},
   "outputs": [],
   "source": [
    "oversample = RandomOverSampler()\n",
    "[X,y] = oversample.fit_resample(X,y)"
   ]
  },
  {
   "cell_type": "code",
   "execution_count": 12,
   "id": "90b00ddd",
   "metadata": {},
   "outputs": [
    {
     "data": {
      "text/plain": [
       "<AxesSubplot:>"
      ]
     },
     "execution_count": 12,
     "metadata": {},
     "output_type": "execute_result"
    },
    {
     "data": {
      "image/png": "[encoded data removed]",
      "text/plain": [
       "<Figure size 432x288 with 1 Axes>"
      ]
     },
     "metadata": {
      "needs_background": "light"
     },
     "output_type": "display_data"
    }
   ],
   "source": [
    "y.hist()"
   ]
  },
  {
   "cell_type": "code",
   "execution_count": 13,
   "id": "38b46754",
   "metadata": {},
   "outputs": [
    {
     "data": {
      "text/plain": [
       "very good    622\n",
       "excellent    622\n",
       "Name: quality, dtype: int64"
      ]
     },
     "execution_count": 13,
     "metadata": {},
     "output_type": "execute_result"
    }
   ],
   "source": [
    "y.value_counts()"
   ]
  },
  {
   "cell_type": "code",
   "execution_count": 14,
   "id": "db9fed63",
   "metadata": {},
   "outputs": [],
   "source": [
    "df = pd.concat([X,y],axis=1)\n",
    "df.to_csv('./train_data.csv', index=False)"
   ]
  },
  {
   "cell_type": "markdown",
   "id": "c7969489",
   "metadata": {},
   "source": [
    "## Now that the data is balanced, the baseline for binary classification is 0.5."
   ]
  },
  {
   "cell_type": "code",
   "execution_count": 16,
   "id": "3ba65534",
   "metadata": {},
   "outputs": [
    {
     "data": {
      "text/plain": [
       "<AxesSubplot:>"
      ]
     },
     "execution_count": 16,
     "metadata": {},
     "output_type": "execute_result"
    },
    {
     "data": {
      "image/png": "[encoded data removed]",
      "text/plain": [
       "<Figure size 432x288 with 1 Axes>"
      ]
     },
     "metadata": {
      "needs_background": "light"
     },
     "output_type": "display_data"
    }
   ],
   "source": [
    "df_test.quality.hist()"
   ]
  },
  {
   "cell_type": "code",
   "execution_count": null,
   "id": "b84cff25",
   "metadata": {},
   "outputs": [],
   "source": []
  }
 ],
 "metadata": {
  "kernelspec": {
   "display_name": "Python 3 (ipykernel)",
   "language": "python",
   "name": "python3"
  },
  "language_info": {
   "codemirror_mode": {
    "name": "ipython",
    "version": 3
   },
   "file_extension": ".py",
   "mimetype": "text/x-python",
   "name": "python",
   "nbconvert_exporter": "python",
   "pygments_lexer": "ipython3",
   "version": "3.7.11"
  }
 },
 "nbformat": 4,
 "nbformat_minor": 5
}
