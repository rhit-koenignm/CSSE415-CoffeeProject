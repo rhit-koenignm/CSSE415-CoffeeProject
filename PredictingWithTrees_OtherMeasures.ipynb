{
 "cells": [
  {
   "cell_type": "markdown",
   "id": "0ba53fa3",
   "metadata": {},
   "source": [
    "# Predicting Other Quality Measures using Trees\n",
    "\n"
   ]
  },
  {
   "cell_type": "code",
   "execution_count": 1,
   "id": "07289c6c",
   "metadata": {},
   "outputs": [],
   "source": [
    "import numpy as np\n",
    "import pandas as pd\n",
    "\n",
    "from sklearn.model_selection import GridSearchCV\n",
    "from sklearn.tree import DecisionTreeClassifier, DecisionTreeRegressor\n",
    "from sklearn.ensemble import RandomForestClassifier, RandomForestRegressor "
   ]
  },
  {
   "cell_type": "code",
   "execution_count": 2,
   "id": "8c8362c3",
   "metadata": {},
   "outputs": [
    {
     "data": {
      "text/html": [
       "<div>\n",
       "<style scoped>\n",
       "    .dataframe tbody tr th:only-of-type {\n",
       "        vertical-align: middle;\n",
       "    }\n",
       "\n",
       "    .dataframe tbody tr th {\n",
       "        vertical-align: top;\n",
       "    }\n",
       "\n",
       "    .dataframe thead th {\n",
       "        text-align: right;\n",
       "    }\n",
       "</style>\n",
       "<table border=\"1\" class=\"dataframe\">\n",
       "  <thead>\n",
       "    <tr style=\"text-align: right;\">\n",
       "      <th></th>\n",
       "      <th>Species</th>\n",
       "      <th>Country.of.Origin</th>\n",
       "      <th>Number.of.Bags</th>\n",
       "      <th>In.Country.Partner</th>\n",
       "      <th>Variety</th>\n",
       "      <th>Processing.Method</th>\n",
       "      <th>Aroma</th>\n",
       "      <th>Flavor</th>\n",
       "      <th>Aftertaste</th>\n",
       "      <th>Acidity</th>\n",
       "      <th>...</th>\n",
       "      <th>Cupper.Points</th>\n",
       "      <th>Total.Cup.Points</th>\n",
       "      <th>Moisture</th>\n",
       "      <th>Category.One.Defects</th>\n",
       "      <th>Quakers</th>\n",
       "      <th>Color</th>\n",
       "      <th>Category.Two.Defects</th>\n",
       "      <th>altitude_low_meters</th>\n",
       "      <th>altitude_high_meters</th>\n",
       "      <th>quality</th>\n",
       "    </tr>\n",
       "  </thead>\n",
       "  <tbody>\n",
       "    <tr>\n",
       "      <th>0</th>\n",
       "      <td>Arabica</td>\n",
       "      <td>Tanzania, United Republic Of</td>\n",
       "      <td>300</td>\n",
       "      <td>Tanzanian Coffee Board</td>\n",
       "      <td>Arusha</td>\n",
       "      <td>Washed / Wet</td>\n",
       "      <td>7.67</td>\n",
       "      <td>7.5</td>\n",
       "      <td>7.33</td>\n",
       "      <td>7.25</td>\n",
       "      <td>...</td>\n",
       "      <td>7.75</td>\n",
       "      <td>82.83</td>\n",
       "      <td>0.11</td>\n",
       "      <td>0</td>\n",
       "      <td>0.0</td>\n",
       "      <td>Green</td>\n",
       "      <td>5</td>\n",
       "      <td>1400.0</td>\n",
       "      <td>1400.0</td>\n",
       "      <td>excellent</td>\n",
       "    </tr>\n",
       "    <tr>\n",
       "      <th>1</th>\n",
       "      <td>Arabica</td>\n",
       "      <td>Brazil</td>\n",
       "      <td>25</td>\n",
       "      <td>NUCOFFEE</td>\n",
       "      <td>Mundo Novo</td>\n",
       "      <td>Semi-washed / Semi-pulped</td>\n",
       "      <td>7.75</td>\n",
       "      <td>7.5</td>\n",
       "      <td>7.58</td>\n",
       "      <td>7.50</td>\n",
       "      <td>...</td>\n",
       "      <td>7.58</td>\n",
       "      <td>83.17</td>\n",
       "      <td>0.12</td>\n",
       "      <td>0</td>\n",
       "      <td>0.0</td>\n",
       "      <td>Blue-Green</td>\n",
       "      <td>3</td>\n",
       "      <td>1000.0</td>\n",
       "      <td>1000.0</td>\n",
       "      <td>excellent</td>\n",
       "    </tr>\n",
       "    <tr>\n",
       "      <th>2</th>\n",
       "      <td>Arabica</td>\n",
       "      <td>Tanzania, United Republic Of</td>\n",
       "      <td>1</td>\n",
       "      <td>Africa Fine Coffee Association</td>\n",
       "      <td>Other</td>\n",
       "      <td>Washed / Wet</td>\n",
       "      <td>7.42</td>\n",
       "      <td>7.5</td>\n",
       "      <td>7.50</td>\n",
       "      <td>7.33</td>\n",
       "      <td>...</td>\n",
       "      <td>7.50</td>\n",
       "      <td>82.08</td>\n",
       "      <td>0.12</td>\n",
       "      <td>0</td>\n",
       "      <td>0.0</td>\n",
       "      <td>Green</td>\n",
       "      <td>3</td>\n",
       "      <td>1500.0</td>\n",
       "      <td>1700.0</td>\n",
       "      <td>excellent</td>\n",
       "    </tr>\n",
       "  </tbody>\n",
       "</table>\n",
       "<p>3 rows × 25 columns</p>\n",
       "</div>"
      ],
      "text/plain": [
       "   Species             Country.of.Origin  Number.of.Bags  \\\n",
       "0  Arabica  Tanzania, United Republic Of             300   \n",
       "1  Arabica                        Brazil              25   \n",
       "2  Arabica  Tanzania, United Republic Of               1   \n",
       "\n",
       "               In.Country.Partner     Variety          Processing.Method  \\\n",
       "0          Tanzanian Coffee Board      Arusha               Washed / Wet   \n",
       "1                        NUCOFFEE  Mundo Novo  Semi-washed / Semi-pulped   \n",
       "2  Africa Fine Coffee Association       Other               Washed / Wet   \n",
       "\n",
       "   Aroma  Flavor  Aftertaste  Acidity  ...  Cupper.Points  Total.Cup.Points  \\\n",
       "0   7.67     7.5        7.33     7.25  ...           7.75             82.83   \n",
       "1   7.75     7.5        7.58     7.50  ...           7.58             83.17   \n",
       "2   7.42     7.5        7.50     7.33  ...           7.50             82.08   \n",
       "\n",
       "   Moisture  Category.One.Defects  Quakers       Color  Category.Two.Defects  \\\n",
       "0      0.11                     0      0.0       Green                     5   \n",
       "1      0.12                     0      0.0  Blue-Green                     3   \n",
       "2      0.12                     0      0.0       Green                     3   \n",
       "\n",
       "   altitude_low_meters  altitude_high_meters    quality  \n",
       "0               1400.0                1400.0  excellent  \n",
       "1               1000.0                1000.0  excellent  \n",
       "2               1500.0                1700.0  excellent  \n",
       "\n",
       "[3 rows x 25 columns]"
      ]
     },
     "execution_count": 2,
     "metadata": {},
     "output_type": "execute_result"
    }
   ],
   "source": [
    "# Let's start by loading in our train and test datasets\n",
    "df_train = pd.read_csv('train_data.csv')\n",
    "df_test = pd.read_csv('test_data.csv')\n",
    "\n",
    "df_train.head(3)"
   ]
  },
  {
   "cell_type": "code",
   "execution_count": 3,
   "id": "5465678e",
   "metadata": {
    "scrolled": true
   },
   "outputs": [
    {
     "data": {
      "text/plain": [
       "Index(['Aroma', 'Flavor', 'Aftertaste', 'Acidity', 'Body', 'Balance',\n",
       "       'Uniformity', 'Clean.Cup', 'Sweetness', 'Cupper.Points',\n",
       "       'Total.Cup.Points'],\n",
       "      dtype='object')"
      ]
     },
     "execution_count": 3,
     "metadata": {},
     "output_type": "execute_result"
    }
   ],
   "source": [
    "df_train.columns[6:17]"
   ]
  },
  {
   "cell_type": "code",
   "execution_count": 31,
   "id": "894dc2b3",
   "metadata": {},
   "outputs": [
    {
     "data": {
      "text/plain": [
       "<AxesSubplot:>"
      ]
     },
     "execution_count": 31,
     "metadata": {},
     "output_type": "execute_result"
    },
    {
     "data": {
      "image/png": "[encoded data removed]",
      "text/plain": [
       "<Figure size 432x288 with 1 Axes>"
      ]
     },
     "metadata": {
      "needs_background": "light"
     },
     "output_type": "display_data"
    }
   ],
   "source": [
    "# not a ton of variation in quality measures\n",
    "df_train['Aroma'].sort_values()\n",
    "df_train['Flavor'].sort_values()\n",
    "df_train['Aftertaste'].sort_values()\n",
    "df_train['Acidity'].sort_values()\n",
    "df_train['Body'].sort_values()\n",
    "df_train['Balance'].sort_values()\n",
    "df_train['Uniformity'].sort_values()\n",
    "df_train['Clean.Cup'].sort_values()\n",
    "df_train['Sweetness'].sort_values()\n",
    "\n",
    "df_train['Clean.Cup'].hist()"
   ]
  },
  {
   "cell_type": "code",
   "execution_count": 5,
   "id": "66bac2c2",
   "metadata": {},
   "outputs": [
    {
     "data": {
      "text/html": [
       "<div>\n",
       "<style scoped>\n",
       "    .dataframe tbody tr th:only-of-type {\n",
       "        vertical-align: middle;\n",
       "    }\n",
       "\n",
       "    .dataframe tbody tr th {\n",
       "        vertical-align: top;\n",
       "    }\n",
       "\n",
       "    .dataframe thead th {\n",
       "        text-align: right;\n",
       "    }\n",
       "</style>\n",
       "<table border=\"1\" class=\"dataframe\">\n",
       "  <thead>\n",
       "    <tr style=\"text-align: right;\">\n",
       "      <th></th>\n",
       "      <th>Species</th>\n",
       "      <th>Number.of.Bags</th>\n",
       "      <th>Processing.Method</th>\n",
       "      <th>Aroma</th>\n",
       "      <th>Flavor</th>\n",
       "      <th>Aftertaste</th>\n",
       "      <th>Acidity</th>\n",
       "      <th>Body</th>\n",
       "      <th>Balance</th>\n",
       "      <th>Uniformity</th>\n",
       "      <th>Clean.Cup</th>\n",
       "      <th>Sweetness</th>\n",
       "      <th>Moisture</th>\n",
       "      <th>Category.One.Defects</th>\n",
       "      <th>Quakers</th>\n",
       "      <th>Color</th>\n",
       "      <th>Category.Two.Defects</th>\n",
       "      <th>altitude_low_meters</th>\n",
       "      <th>altitude_high_meters</th>\n",
       "      <th>quality</th>\n",
       "    </tr>\n",
       "  </thead>\n",
       "  <tbody>\n",
       "    <tr>\n",
       "      <th>1034</th>\n",
       "      <td>Arabica</td>\n",
       "      <td>50</td>\n",
       "      <td>Washed / Wet</td>\n",
       "      <td>7.08</td>\n",
       "      <td>7.08</td>\n",
       "      <td>7.25</td>\n",
       "      <td>7.00</td>\n",
       "      <td>7.17</td>\n",
       "      <td>7.17</td>\n",
       "      <td>10.0</td>\n",
       "      <td>10.0</td>\n",
       "      <td>10.0</td>\n",
       "      <td>0.10</td>\n",
       "      <td>0</td>\n",
       "      <td>0.0</td>\n",
       "      <td>Blue-Green</td>\n",
       "      <td>0</td>\n",
       "      <td>500.0</td>\n",
       "      <td>700.0</td>\n",
       "      <td>very good</td>\n",
       "    </tr>\n",
       "    <tr>\n",
       "      <th>124</th>\n",
       "      <td>Arabica</td>\n",
       "      <td>10</td>\n",
       "      <td>Natural / Dry</td>\n",
       "      <td>7.58</td>\n",
       "      <td>7.67</td>\n",
       "      <td>7.58</td>\n",
       "      <td>7.33</td>\n",
       "      <td>7.00</td>\n",
       "      <td>7.58</td>\n",
       "      <td>10.0</td>\n",
       "      <td>10.0</td>\n",
       "      <td>10.0</td>\n",
       "      <td>0.15</td>\n",
       "      <td>1</td>\n",
       "      <td>0.0</td>\n",
       "      <td>None</td>\n",
       "      <td>8</td>\n",
       "      <td>441.0</td>\n",
       "      <td>441.0</td>\n",
       "      <td>excellent</td>\n",
       "    </tr>\n",
       "    <tr>\n",
       "      <th>184</th>\n",
       "      <td>Arabica</td>\n",
       "      <td>44</td>\n",
       "      <td>Washed / Wet</td>\n",
       "      <td>7.58</td>\n",
       "      <td>7.58</td>\n",
       "      <td>7.25</td>\n",
       "      <td>7.58</td>\n",
       "      <td>7.42</td>\n",
       "      <td>7.50</td>\n",
       "      <td>10.0</td>\n",
       "      <td>10.0</td>\n",
       "      <td>10.0</td>\n",
       "      <td>0.11</td>\n",
       "      <td>0</td>\n",
       "      <td>0.0</td>\n",
       "      <td>Green</td>\n",
       "      <td>2</td>\n",
       "      <td>950.0</td>\n",
       "      <td>950.0</td>\n",
       "      <td>excellent</td>\n",
       "    </tr>\n",
       "  </tbody>\n",
       "</table>\n",
       "</div>"
      ],
      "text/plain": [
       "      Species  Number.of.Bags Processing.Method  Aroma  Flavor  Aftertaste  \\\n",
       "1034  Arabica              50      Washed / Wet   7.08    7.08        7.25   \n",
       "124   Arabica              10     Natural / Dry   7.58    7.67        7.58   \n",
       "184   Arabica              44      Washed / Wet   7.58    7.58        7.25   \n",
       "\n",
       "      Acidity  Body  Balance  Uniformity  Clean.Cup  Sweetness  Moisture  \\\n",
       "1034     7.00  7.17     7.17        10.0       10.0       10.0      0.10   \n",
       "124      7.33  7.00     7.58        10.0       10.0       10.0      0.15   \n",
       "184      7.58  7.42     7.50        10.0       10.0       10.0      0.11   \n",
       "\n",
       "      Category.One.Defects  Quakers       Color  Category.Two.Defects  \\\n",
       "1034                     0      0.0  Blue-Green                     0   \n",
       "124                      1      0.0        None                     8   \n",
       "184                      0      0.0       Green                     2   \n",
       "\n",
       "      altitude_low_meters  altitude_high_meters    quality  \n",
       "1034                500.0                 700.0  very good  \n",
       "124                 441.0                 441.0  excellent  \n",
       "184                 950.0                 950.0  excellent  "
      ]
     },
     "execution_count": 5,
     "metadata": {},
     "output_type": "execute_result"
    }
   ],
   "source": [
    "# drop Total.Cup.Points and Cupper.Points as well as extra features\n",
    "df_train = df_train.drop(['Total.Cup.Points','Cupper.Points','Country.of.Origin', 'In.Country.Partner', 'Variety'], axis=1)\n",
    "df_test = df_test.drop(['Total.Cup.Points','Cupper.Points','Country.of.Origin', 'In.Country.Partner', 'Variety'],axis=1)\n",
    "\n",
    "# And we'll also shuffle for good measure\n",
    "df_train = df_train.sample(frac=1.0, random_state=0)\n",
    "df_test = df_test.sample(frac=1.0, random_state=0)\n",
    "\n",
    "df_train.head(3)"
   ]
  },
  {
   "cell_type": "code",
   "execution_count": 6,
   "id": "5ee04d2f",
   "metadata": {},
   "outputs": [],
   "source": [
    "# Now we can define our target and features\n",
    "target = 'Uniformity'\n",
    "X_train = df_train.drop([target], axis=1)\n",
    "X_test = df_test.drop([target], axis=1)\n",
    "\n",
    "y_train = df_train[target]\n",
    "y_test = df_test[target]"
   ]
  },
  {
   "cell_type": "code",
   "execution_count": 7,
   "id": "8967a4fd",
   "metadata": {},
   "outputs": [],
   "source": [
    "# We'll get dummies for the categorical data and standardize the numerical columns\n",
    "X_train_num = X_train.select_dtypes(include='number')\n",
    "X_train_cat = X_train.select_dtypes(exclude='number')\n",
    "\n",
    "X_train_cat = pd.get_dummies(X_train_cat)\n",
    "X_train_num = (X_train_num - X_train_num.mean()) / X_train_num.std()\n",
    "\n",
    "X_train = pd.concat([X_train_num, X_train_cat], axis=1)\n",
    "\n",
    "X_test_num = X_test.select_dtypes(include='number')\n",
    "X_test_cat = X_test.select_dtypes(exclude='number')\n",
    "\n",
    "X_test_cat = pd.get_dummies(X_test_cat)\n",
    "X_test_num = (X_test_num - X_test_num.mean()) / X_test_num.std()\n",
    "\n",
    "X_test = pd.concat([X_test_num, X_test_cat], axis=1)"
   ]
  },
  {
   "cell_type": "code",
   "execution_count": 8,
   "id": "09b7ce22",
   "metadata": {},
   "outputs": [
    {
     "name": "stdout",
     "output_type": "stream",
     "text": [
      "(1244, 28)\n"
     ]
    },
    {
     "data": {
      "text/html": [
       "<div>\n",
       "<style scoped>\n",
       "    .dataframe tbody tr th:only-of-type {\n",
       "        vertical-align: middle;\n",
       "    }\n",
       "\n",
       "    .dataframe tbody tr th {\n",
       "        vertical-align: top;\n",
       "    }\n",
       "\n",
       "    .dataframe thead th {\n",
       "        text-align: right;\n",
       "    }\n",
       "</style>\n",
       "<table border=\"1\" class=\"dataframe\">\n",
       "  <thead>\n",
       "    <tr style=\"text-align: right;\">\n",
       "      <th></th>\n",
       "      <th>Number.of.Bags</th>\n",
       "      <th>Aroma</th>\n",
       "      <th>Flavor</th>\n",
       "      <th>Aftertaste</th>\n",
       "      <th>Acidity</th>\n",
       "      <th>Body</th>\n",
       "      <th>Balance</th>\n",
       "      <th>Clean.Cup</th>\n",
       "      <th>Sweetness</th>\n",
       "      <th>Moisture</th>\n",
       "      <th>...</th>\n",
       "      <th>Processing.Method_Other</th>\n",
       "      <th>Processing.Method_Pulped natural / honey</th>\n",
       "      <th>Processing.Method_Semi-washed / Semi-pulped</th>\n",
       "      <th>Processing.Method_Washed / Wet</th>\n",
       "      <th>Color_Blue-Green</th>\n",
       "      <th>Color_Bluish-Green</th>\n",
       "      <th>Color_Green</th>\n",
       "      <th>Color_None</th>\n",
       "      <th>quality_excellent</th>\n",
       "      <th>quality_very good</th>\n",
       "    </tr>\n",
       "  </thead>\n",
       "  <tbody>\n",
       "    <tr>\n",
       "      <th>1034</th>\n",
       "      <td>-0.807907</td>\n",
       "      <td>-0.945001</td>\n",
       "      <td>-0.605959</td>\n",
       "      <td>0.184300</td>\n",
       "      <td>-1.078760</td>\n",
       "      <td>-0.694506</td>\n",
       "      <td>-0.332798</td>\n",
       "      <td>0.380905</td>\n",
       "      <td>0.237406</td>\n",
       "      <td>-0.039962</td>\n",
       "      <td>...</td>\n",
       "      <td>0</td>\n",
       "      <td>0</td>\n",
       "      <td>0</td>\n",
       "      <td>1</td>\n",
       "      <td>1</td>\n",
       "      <td>0</td>\n",
       "      <td>0</td>\n",
       "      <td>0</td>\n",
       "      <td>0</td>\n",
       "      <td>1</td>\n",
       "    </tr>\n",
       "    <tr>\n",
       "      <th>124</th>\n",
       "      <td>-1.126193</td>\n",
       "      <td>0.507015</td>\n",
       "      <td>0.967374</td>\n",
       "      <td>1.020584</td>\n",
       "      <td>-0.108146</td>\n",
       "      <td>-1.275817</td>\n",
       "      <td>0.722343</td>\n",
       "      <td>0.380905</td>\n",
       "      <td>0.237406</td>\n",
       "      <td>1.196664</td>\n",
       "      <td>...</td>\n",
       "      <td>0</td>\n",
       "      <td>0</td>\n",
       "      <td>0</td>\n",
       "      <td>0</td>\n",
       "      <td>0</td>\n",
       "      <td>0</td>\n",
       "      <td>0</td>\n",
       "      <td>1</td>\n",
       "      <td>1</td>\n",
       "      <td>0</td>\n",
       "    </tr>\n",
       "    <tr>\n",
       "      <th>184</th>\n",
       "      <td>-0.855650</td>\n",
       "      <td>0.507015</td>\n",
       "      <td>0.727374</td>\n",
       "      <td>0.184300</td>\n",
       "      <td>0.627169</td>\n",
       "      <td>0.160364</td>\n",
       "      <td>0.516461</td>\n",
       "      <td>0.380905</td>\n",
       "      <td>0.237406</td>\n",
       "      <td>0.207363</td>\n",
       "      <td>...</td>\n",
       "      <td>0</td>\n",
       "      <td>0</td>\n",
       "      <td>0</td>\n",
       "      <td>1</td>\n",
       "      <td>0</td>\n",
       "      <td>0</td>\n",
       "      <td>1</td>\n",
       "      <td>0</td>\n",
       "      <td>1</td>\n",
       "      <td>0</td>\n",
       "    </tr>\n",
       "  </tbody>\n",
       "</table>\n",
       "<p>3 rows × 28 columns</p>\n",
       "</div>"
      ],
      "text/plain": [
       "      Number.of.Bags     Aroma    Flavor  Aftertaste   Acidity      Body  \\\n",
       "1034       -0.807907 -0.945001 -0.605959    0.184300 -1.078760 -0.694506   \n",
       "124        -1.126193  0.507015  0.967374    1.020584 -0.108146 -1.275817   \n",
       "184        -0.855650  0.507015  0.727374    0.184300  0.627169  0.160364   \n",
       "\n",
       "       Balance  Clean.Cup  Sweetness  Moisture  ...  Processing.Method_Other  \\\n",
       "1034 -0.332798   0.380905   0.237406 -0.039962  ...                        0   \n",
       "124   0.722343   0.380905   0.237406  1.196664  ...                        0   \n",
       "184   0.516461   0.380905   0.237406  0.207363  ...                        0   \n",
       "\n",
       "      Processing.Method_Pulped natural / honey  \\\n",
       "1034                                         0   \n",
       "124                                          0   \n",
       "184                                          0   \n",
       "\n",
       "      Processing.Method_Semi-washed / Semi-pulped  \\\n",
       "1034                                            0   \n",
       "124                                             0   \n",
       "184                                             0   \n",
       "\n",
       "      Processing.Method_Washed / Wet  Color_Blue-Green  Color_Bluish-Green  \\\n",
       "1034                               1                 1                   0   \n",
       "124                                0                 0                   0   \n",
       "184                                1                 0                   0   \n",
       "\n",
       "      Color_Green  Color_None  quality_excellent  quality_very good  \n",
       "1034            0           0                  0                  1  \n",
       "124             0           1                  1                  0  \n",
       "184             1           0                  1                  0  \n",
       "\n",
       "[3 rows x 28 columns]"
      ]
     },
     "execution_count": 8,
     "metadata": {},
     "output_type": "execute_result"
    }
   ],
   "source": [
    "print(X_train.shape)\n",
    "X_train.head(3)"
   ]
  },
  {
   "cell_type": "code",
   "execution_count": 9,
   "id": "4d3ec099",
   "metadata": {},
   "outputs": [
    {
     "data": {
      "text/plain": [
       "10.00    166\n",
       "9.33       9\n",
       "8.00       4\n",
       "8.67       3\n",
       "Name: Uniformity, dtype: int64"
      ]
     },
     "execution_count": 9,
     "metadata": {},
     "output_type": "execute_result"
    }
   ],
   "source": [
    "y_test.value_counts()"
   ]
  },
  {
   "cell_type": "code",
   "execution_count": 10,
   "id": "f6c64eb9",
   "metadata": {},
   "outputs": [
    {
     "data": {
      "text/plain": [
       "GridSearchCV(estimator=DecisionTreeRegressor(),\n",
       "             param_grid={'max_depth': array([ 1,  2,  3,  4,  5,  6,  7,  8,  9, 10, 11, 12, 13, 14, 15, 16, 17,\n",
       "       18, 19, 20, 21, 22, 23, 24])},\n",
       "             return_train_score=True)"
      ]
     },
     "execution_count": 10,
     "metadata": {},
     "output_type": "execute_result"
    }
   ],
   "source": [
    "# Now let's set up our DecisionTreeRegressor\n",
    "grid = {'max_depth': np.arange(1, 25)}\n",
    "\n",
    "Tree = DecisionTreeRegressor()\n",
    "TreeCV = GridSearchCV(Tree, param_grid=grid, return_train_score=True)\n",
    "\n",
    "TreeCV.fit(X_train, y_train)"
   ]
  },
  {
   "cell_type": "code",
   "execution_count": 11,
   "id": "f2e2ee9c",
   "metadata": {},
   "outputs": [
    {
     "name": "stdout",
     "output_type": "stream",
     "text": [
      "best depth 6\n",
      "validation accuracy 0.872\n"
     ]
    }
   ],
   "source": [
    "print('best depth', TreeCV.best_params_['max_depth'])\n",
    "print('validation accuracy', TreeCV.best_score_.round(3))"
   ]
  },
  {
   "cell_type": "code",
   "execution_count": 12,
   "id": "86339f40",
   "metadata": {},
   "outputs": [
    {
     "data": {
      "text/plain": [
       "-1.2402572120867803"
      ]
     },
     "execution_count": 12,
     "metadata": {},
     "output_type": "execute_result"
    }
   ],
   "source": [
    "#best_tree = DecisionTreeRegressor(max_depth=TreeCV.best_params_['max_depth'])\n",
    "#best_tree.fit(X_train, y_train)\n",
    "#print(best_tree.score(X_test, y_test).round(3))\n",
    "TreeCV.score(X_test,y_test)"
   ]
  },
  {
   "cell_type": "code",
   "execution_count": 13,
   "id": "fc4a1eb0",
   "metadata": {},
   "outputs": [
    {
     "name": "stdout",
     "output_type": "stream",
     "text": [
      "(1244, 28)\n"
     ]
    }
   ],
   "source": [
    "print(X_train.shape)"
   ]
  },
  {
   "cell_type": "markdown",
   "id": "72c2d27e",
   "metadata": {},
   "source": [
    "# Now for Random Forest:"
   ]
  },
  {
   "cell_type": "code",
   "execution_count": 16,
   "id": "91dd324c",
   "metadata": {},
   "outputs": [],
   "source": [
    "# Luckily, our training and test data is already defined in terms of targets and features\n",
    "\n",
    "grid = {'n_estimators': np.arange(10, 200, 10), 'max_depth': np.arange(1, 25)}\n",
    "\n",
    "rf = RandomForestRegressor()\n",
    "rfCV = GridSearchCV(rf, param_grid=grid, return_train_score=True, n_jobs=-1)"
   ]
  },
  {
   "cell_type": "code",
   "execution_count": 17,
   "id": "cc615546",
   "metadata": {},
   "outputs": [
    {
     "data": {
      "text/plain": [
       "GridSearchCV(estimator=RandomForestRegressor(), n_jobs=-1,\n",
       "             param_grid={'max_depth': array([ 1,  2,  3,  4,  5,  6,  7,  8,  9, 10, 11, 12, 13, 14, 15, 16, 17,\n",
       "       18, 19, 20, 21, 22, 23, 24]),\n",
       "                         'n_estimators': array([ 10,  20,  30,  40,  50,  60,  70,  80,  90, 100, 110, 120, 130,\n",
       "       140, 150, 160, 170, 180, 190])},\n",
       "             return_train_score=True)"
      ]
     },
     "execution_count": 17,
     "metadata": {},
     "output_type": "execute_result"
    }
   ],
   "source": [
    "rfCV.fit(X_train, y_train)"
   ]
  },
  {
   "cell_type": "code",
   "execution_count": 18,
   "id": "4ee900da",
   "metadata": {},
   "outputs": [
    {
     "name": "stdout",
     "output_type": "stream",
     "text": [
      "n_estimators:  180   max_depth:  11\n",
      "validation accuracy  0.923\n"
     ]
    }
   ],
   "source": [
    "print('n_estimators: ', rfCV.best_params_['n_estimators'], '  max_depth: ', rfCV.best_params_['max_depth'])\n",
    "print('validation accuracy ', rfCV.best_score_.round(3))"
   ]
  },
  {
   "cell_type": "code",
   "execution_count": 24,
   "id": "44b15044",
   "metadata": {},
   "outputs": [
    {
     "name": "stdout",
     "output_type": "stream",
     "text": [
      "-0.139\n"
     ]
    }
   ],
   "source": [
    "# Now let's see how we do \n",
    "best_forest = RandomForestRegressor(n_estimators=rfCV.best_params_['n_estimators'],max_depth=rfCV.best_params_['max_depth'])\n",
    "best_forest.fit(X_train, y_train)\n",
    "print(best_forest.score(X_test, y_test).round(3))"
   ]
  },
  {
   "cell_type": "code",
   "execution_count": 21,
   "id": "b4e95334",
   "metadata": {},
   "outputs": [
    {
     "data": {
      "text/plain": [
       "Clean.Cup                                      3.514481e-01\n",
       "Number.of.Bags                                 1.448028e-01\n",
       "Moisture                                       1.032499e-01\n",
       "Category.Two.Defects                           5.591870e-02\n",
       "altitude_high_meters                           4.299197e-02\n",
       "Balance                                        4.070325e-02\n",
       "altitude_low_meters                            4.063575e-02\n",
       "Flavor                                         3.677701e-02\n",
       "Aroma                                          3.283696e-02\n",
       "Category.One.Defects                           2.792285e-02\n",
       "Acidity                                        2.339188e-02\n",
       "Sweetness                                      2.089518e-02\n",
       "Aftertaste                                     1.843965e-02\n",
       "Body                                           1.361351e-02\n",
       "quality_very good                              1.162575e-02\n",
       "Processing.Method_Semi-washed / Semi-pulped    7.738362e-03\n",
       "quality_excellent                              7.208707e-03\n",
       "Processing.Method_Washed / Wet                 5.004889e-03\n",
       "Color_Blue-Green                               3.119269e-03\n",
       "Processing.Method_Other                        3.034561e-03\n",
       "Color_Bluish-Green                             2.775800e-03\n",
       "Processing.Method_Natural / Dry                2.656186e-03\n",
       "Color_Green                                    1.989427e-03\n",
       "Color_None                                     7.213066e-04\n",
       "Species_Arabica                                3.351189e-04\n",
       "Species_Robusta                                1.526247e-04\n",
       "Quakers                                        1.053181e-05\n",
       "Processing.Method_Pulped natural / honey       2.921993e-17\n",
       "dtype: float64"
      ]
     },
     "execution_count": 21,
     "metadata": {},
     "output_type": "execute_result"
    }
   ],
   "source": [
    "feature_importance = pd.Series(best_forest.feature_importances_, index=X_train.columns)\n",
    "feature_importance.sort_values(ascending=False)"
   ]
  },
  {
   "cell_type": "code",
   "execution_count": 22,
   "id": "cfdf35f3",
   "metadata": {},
   "outputs": [
    {
     "data": {
      "text/plain": [
       "<AxesSubplot:>"
      ]
     },
     "execution_count": 22,
     "metadata": {},
     "output_type": "execute_result"
    },
    {
     "data": {
      "image/png": "[encoded data removed]",
      "text/plain": [
       "<Figure size 432x288 with 1 Axes>"
      ]
     },
     "metadata": {
      "needs_background": "light"
     },
     "output_type": "display_data"
    }
   ],
   "source": [
    "feature_importance.sort_values().plot.barh(color='salmon')"
   ]
  },
  {
   "cell_type": "code",
   "execution_count": null,
   "id": "cce1a2c7",
   "metadata": {},
   "outputs": [],
   "source": []
  }
 ],
 "metadata": {
  "kernelspec": {
   "display_name": "Python 3 (ipykernel)",
   "language": "python",
   "name": "python3"
  },
  "language_info": {
   "codemirror_mode": {
    "name": "ipython",
    "version": 3
   },
   "file_extension": ".py",
   "mimetype": "text/x-python",
   "name": "python",
   "nbconvert_exporter": "python",
   "pygments_lexer": "ipython3",
   "version": "3.7.11"
  }
 },
 "nbformat": 4,
 "nbformat_minor": 5
}
