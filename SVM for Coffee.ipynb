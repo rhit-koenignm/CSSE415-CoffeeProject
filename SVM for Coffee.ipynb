{
 "cells": [
  {
   "cell_type": "code",
   "execution_count": 1,
   "id": "592e3a5e",
   "metadata": {},
   "outputs": [],
   "source": [
    "import numpy as np\n",
    "import pandas as pd\n",
    "from sklearn.svm import SVC\n",
    "from sklearn.preprocessing import StandardScaler\n",
    "from sklearn.model_selection import GridSearchCV, cross_validate"
   ]
  },
  {
   "cell_type": "code",
   "execution_count": 2,
   "id": "435ee837",
   "metadata": {},
   "outputs": [
    {
     "data": {
      "text/html": [
       "<div>\n",
       "<style scoped>\n",
       "    .dataframe tbody tr th:only-of-type {\n",
       "        vertical-align: middle;\n",
       "    }\n",
       "\n",
       "    .dataframe tbody tr th {\n",
       "        vertical-align: top;\n",
       "    }\n",
       "\n",
       "    .dataframe thead th {\n",
       "        text-align: right;\n",
       "    }\n",
       "</style>\n",
       "<table border=\"1\" class=\"dataframe\">\n",
       "  <thead>\n",
       "    <tr style=\"text-align: right;\">\n",
       "      <th></th>\n",
       "      <th>Species</th>\n",
       "      <th>Country.of.Origin</th>\n",
       "      <th>Number.of.Bags</th>\n",
       "      <th>In.Country.Partner</th>\n",
       "      <th>Variety</th>\n",
       "      <th>Processing.Method</th>\n",
       "      <th>Aroma</th>\n",
       "      <th>Flavor</th>\n",
       "      <th>Aftertaste</th>\n",
       "      <th>Acidity</th>\n",
       "      <th>...</th>\n",
       "      <th>Cupper.Points</th>\n",
       "      <th>Total.Cup.Points</th>\n",
       "      <th>Moisture</th>\n",
       "      <th>Category.One.Defects</th>\n",
       "      <th>Quakers</th>\n",
       "      <th>Color</th>\n",
       "      <th>Category.Two.Defects</th>\n",
       "      <th>altitude_low_meters</th>\n",
       "      <th>altitude_high_meters</th>\n",
       "      <th>quality</th>\n",
       "    </tr>\n",
       "  </thead>\n",
       "  <tbody>\n",
       "    <tr>\n",
       "      <th>0</th>\n",
       "      <td>Arabica</td>\n",
       "      <td>Tanzania, United Republic Of</td>\n",
       "      <td>300</td>\n",
       "      <td>Tanzanian Coffee Board</td>\n",
       "      <td>Arusha</td>\n",
       "      <td>Washed / Wet</td>\n",
       "      <td>7.67</td>\n",
       "      <td>7.5</td>\n",
       "      <td>7.33</td>\n",
       "      <td>7.25</td>\n",
       "      <td>...</td>\n",
       "      <td>7.75</td>\n",
       "      <td>82.83</td>\n",
       "      <td>0.11</td>\n",
       "      <td>0</td>\n",
       "      <td>0.0</td>\n",
       "      <td>Green</td>\n",
       "      <td>5</td>\n",
       "      <td>1400.0</td>\n",
       "      <td>1400.0</td>\n",
       "      <td>excellent</td>\n",
       "    </tr>\n",
       "    <tr>\n",
       "      <th>1</th>\n",
       "      <td>Arabica</td>\n",
       "      <td>Brazil</td>\n",
       "      <td>25</td>\n",
       "      <td>NUCOFFEE</td>\n",
       "      <td>Mundo Novo</td>\n",
       "      <td>Semi-washed / Semi-pulped</td>\n",
       "      <td>7.75</td>\n",
       "      <td>7.5</td>\n",
       "      <td>7.58</td>\n",
       "      <td>7.50</td>\n",
       "      <td>...</td>\n",
       "      <td>7.58</td>\n",
       "      <td>83.17</td>\n",
       "      <td>0.12</td>\n",
       "      <td>0</td>\n",
       "      <td>0.0</td>\n",
       "      <td>Blue-Green</td>\n",
       "      <td>3</td>\n",
       "      <td>1000.0</td>\n",
       "      <td>1000.0</td>\n",
       "      <td>excellent</td>\n",
       "    </tr>\n",
       "    <tr>\n",
       "      <th>2</th>\n",
       "      <td>Arabica</td>\n",
       "      <td>Tanzania, United Republic Of</td>\n",
       "      <td>1</td>\n",
       "      <td>Africa Fine Coffee Association</td>\n",
       "      <td>Other</td>\n",
       "      <td>Washed / Wet</td>\n",
       "      <td>7.42</td>\n",
       "      <td>7.5</td>\n",
       "      <td>7.50</td>\n",
       "      <td>7.33</td>\n",
       "      <td>...</td>\n",
       "      <td>7.50</td>\n",
       "      <td>82.08</td>\n",
       "      <td>0.12</td>\n",
       "      <td>0</td>\n",
       "      <td>0.0</td>\n",
       "      <td>Green</td>\n",
       "      <td>3</td>\n",
       "      <td>1500.0</td>\n",
       "      <td>1700.0</td>\n",
       "      <td>excellent</td>\n",
       "    </tr>\n",
       "  </tbody>\n",
       "</table>\n",
       "<p>3 rows × 25 columns</p>\n",
       "</div>"
      ],
      "text/plain": [
       "   Species             Country.of.Origin  Number.of.Bags  \\\n",
       "0  Arabica  Tanzania, United Republic Of             300   \n",
       "1  Arabica                        Brazil              25   \n",
       "2  Arabica  Tanzania, United Republic Of               1   \n",
       "\n",
       "               In.Country.Partner     Variety          Processing.Method  \\\n",
       "0          Tanzanian Coffee Board      Arusha               Washed / Wet   \n",
       "1                        NUCOFFEE  Mundo Novo  Semi-washed / Semi-pulped   \n",
       "2  Africa Fine Coffee Association       Other               Washed / Wet   \n",
       "\n",
       "   Aroma  Flavor  Aftertaste  Acidity  ...  Cupper.Points  Total.Cup.Points  \\\n",
       "0   7.67     7.5        7.33     7.25  ...           7.75             82.83   \n",
       "1   7.75     7.5        7.58     7.50  ...           7.58             83.17   \n",
       "2   7.42     7.5        7.50     7.33  ...           7.50             82.08   \n",
       "\n",
       "   Moisture  Category.One.Defects  Quakers       Color  Category.Two.Defects  \\\n",
       "0      0.11                     0      0.0       Green                     5   \n",
       "1      0.12                     0      0.0  Blue-Green                     3   \n",
       "2      0.12                     0      0.0       Green                     3   \n",
       "\n",
       "   altitude_low_meters  altitude_high_meters    quality  \n",
       "0               1400.0                1400.0  excellent  \n",
       "1               1000.0                1000.0  excellent  \n",
       "2               1500.0                1700.0  excellent  \n",
       "\n",
       "[3 rows x 25 columns]"
      ]
     },
     "execution_count": 2,
     "metadata": {},
     "output_type": "execute_result"
    }
   ],
   "source": [
    "df_train = pd.read_csv('train_data.csv')\n",
    "df_test = pd.read_csv('test_data.csv')\n",
    "df_train.head(3)"
   ]
  },
  {
   "cell_type": "code",
   "execution_count": 3,
   "id": "c9e24f31",
   "metadata": {},
   "outputs": [
    {
     "data": {
      "text/plain": [
       "(182, 25)"
      ]
     },
     "execution_count": 3,
     "metadata": {},
     "output_type": "execute_result"
    }
   ],
   "source": [
    "df_test.shape"
   ]
  },
  {
   "cell_type": "code",
   "execution_count": 4,
   "id": "45820082",
   "metadata": {},
   "outputs": [
    {
     "data": {
      "text/plain": [
       "(1244, 25)"
      ]
     },
     "execution_count": 4,
     "metadata": {},
     "output_type": "execute_result"
    }
   ],
   "source": [
    "df_train.shape"
   ]
  },
  {
   "cell_type": "code",
   "execution_count": 5,
   "id": "bb88080b",
   "metadata": {},
   "outputs": [],
   "source": [
    "df_train = df_train.drop(['Aroma', 'Flavor', 'Aftertaste', 'Acidity', 'Body', 'Balance',\n",
    "       'Uniformity', 'Clean.Cup', 'Sweetness', 'Cupper.Points', 'Total.Cup.Points', 'Country.of.Origin', 'In.Country.Partner', 'Variety'], axis=1)\n",
    "df_test = df_test.drop(['Aroma', 'Flavor', 'Aftertaste', 'Acidity', 'Body', 'Balance',\n",
    "       'Uniformity', 'Clean.Cup', 'Sweetness', 'Cupper.Points', 'Total.Cup.Points', 'Country.of.Origin', 'In.Country.Partner', 'Variety'],axis=1)"
   ]
  },
  {
   "cell_type": "code",
   "execution_count": 6,
   "id": "9996b787",
   "metadata": {},
   "outputs": [],
   "source": [
    "X_train = df_train.drop(['quality'], axis=1)\n",
    "X_test = df_test.drop(['quality'], axis=1)\n",
    "\n",
    "y_train = df_train['quality']\n",
    "y_test = df_test['quality']"
   ]
  },
  {
   "cell_type": "code",
   "execution_count": 7,
   "id": "0ec726b6",
   "metadata": {},
   "outputs": [
    {
     "data": {
      "text/html": [
       "<div>\n",
       "<style scoped>\n",
       "    .dataframe tbody tr th:only-of-type {\n",
       "        vertical-align: middle;\n",
       "    }\n",
       "\n",
       "    .dataframe tbody tr th {\n",
       "        vertical-align: top;\n",
       "    }\n",
       "\n",
       "    .dataframe thead th {\n",
       "        text-align: right;\n",
       "    }\n",
       "</style>\n",
       "<table border=\"1\" class=\"dataframe\">\n",
       "  <thead>\n",
       "    <tr style=\"text-align: right;\">\n",
       "      <th></th>\n",
       "      <th>Species</th>\n",
       "      <th>Number.of.Bags</th>\n",
       "      <th>Processing.Method</th>\n",
       "      <th>Moisture</th>\n",
       "      <th>Category.One.Defects</th>\n",
       "      <th>Quakers</th>\n",
       "      <th>Color</th>\n",
       "      <th>Category.Two.Defects</th>\n",
       "      <th>altitude_low_meters</th>\n",
       "      <th>altitude_high_meters</th>\n",
       "    </tr>\n",
       "  </thead>\n",
       "  <tbody>\n",
       "    <tr>\n",
       "      <th>0</th>\n",
       "      <td>Arabica</td>\n",
       "      <td>275</td>\n",
       "      <td>Washed / Wet</td>\n",
       "      <td>0.11</td>\n",
       "      <td>0</td>\n",
       "      <td>0.0</td>\n",
       "      <td>Green</td>\n",
       "      <td>1</td>\n",
       "      <td>1650.0</td>\n",
       "      <td>1650.0</td>\n",
       "    </tr>\n",
       "    <tr>\n",
       "      <th>1</th>\n",
       "      <td>Arabica</td>\n",
       "      <td>275</td>\n",
       "      <td>Washed / Wet</td>\n",
       "      <td>0.10</td>\n",
       "      <td>0</td>\n",
       "      <td>1.0</td>\n",
       "      <td>Green</td>\n",
       "      <td>8</td>\n",
       "      <td>1396.0</td>\n",
       "      <td>1396.0</td>\n",
       "    </tr>\n",
       "    <tr>\n",
       "      <th>2</th>\n",
       "      <td>Arabica</td>\n",
       "      <td>10</td>\n",
       "      <td>Washed / Wet</td>\n",
       "      <td>0.13</td>\n",
       "      <td>0</td>\n",
       "      <td>0.0</td>\n",
       "      <td>Green</td>\n",
       "      <td>3</td>\n",
       "      <td>1170.0</td>\n",
       "      <td>1170.0</td>\n",
       "    </tr>\n",
       "  </tbody>\n",
       "</table>\n",
       "</div>"
      ],
      "text/plain": [
       "   Species  Number.of.Bags Processing.Method  Moisture  Category.One.Defects  \\\n",
       "0  Arabica             275      Washed / Wet      0.11                     0   \n",
       "1  Arabica             275      Washed / Wet      0.10                     0   \n",
       "2  Arabica              10      Washed / Wet      0.13                     0   \n",
       "\n",
       "   Quakers  Color  Category.Two.Defects  altitude_low_meters  \\\n",
       "0      0.0  Green                     1               1650.0   \n",
       "1      1.0  Green                     8               1396.0   \n",
       "2      0.0  Green                     3               1170.0   \n",
       "\n",
       "   altitude_high_meters  \n",
       "0                1650.0  \n",
       "1                1396.0  \n",
       "2                1170.0  "
      ]
     },
     "execution_count": 7,
     "metadata": {},
     "output_type": "execute_result"
    }
   ],
   "source": [
    "X_test.head(3)"
   ]
  },
  {
   "cell_type": "code",
   "execution_count": 8,
   "id": "9177ca90",
   "metadata": {
    "scrolled": true
   },
   "outputs": [
    {
     "data": {
      "text/html": [
       "<div>\n",
       "<style scoped>\n",
       "    .dataframe tbody tr th:only-of-type {\n",
       "        vertical-align: middle;\n",
       "    }\n",
       "\n",
       "    .dataframe tbody tr th {\n",
       "        vertical-align: top;\n",
       "    }\n",
       "\n",
       "    .dataframe thead th {\n",
       "        text-align: right;\n",
       "    }\n",
       "</style>\n",
       "<table border=\"1\" class=\"dataframe\">\n",
       "  <thead>\n",
       "    <tr style=\"text-align: right;\">\n",
       "      <th></th>\n",
       "      <th>Number.of.Bags</th>\n",
       "      <th>Moisture</th>\n",
       "      <th>Category.One.Defects</th>\n",
       "      <th>Quakers</th>\n",
       "      <th>Category.Two.Defects</th>\n",
       "      <th>altitude_low_meters</th>\n",
       "      <th>altitude_high_meters</th>\n",
       "      <th>Species_Arabica</th>\n",
       "      <th>Species_Robusta</th>\n",
       "      <th>Processing.Method_Natural / Dry</th>\n",
       "      <th>Processing.Method_Other</th>\n",
       "      <th>Processing.Method_Pulped natural / honey</th>\n",
       "      <th>Processing.Method_Semi-washed / Semi-pulped</th>\n",
       "      <th>Processing.Method_Washed / Wet</th>\n",
       "      <th>Color_Blue-Green</th>\n",
       "      <th>Color_Bluish-Green</th>\n",
       "      <th>Color_Green</th>\n",
       "      <th>Color_None</th>\n",
       "    </tr>\n",
       "  </thead>\n",
       "  <tbody>\n",
       "    <tr>\n",
       "      <th>0</th>\n",
       "      <td>1.181856</td>\n",
       "      <td>0.207447</td>\n",
       "      <td>-0.269387</td>\n",
       "      <td>-0.175242</td>\n",
       "      <td>-0.046362</td>\n",
       "      <td>-0.054006</td>\n",
       "      <td>-0.056095</td>\n",
       "      <td>1</td>\n",
       "      <td>0</td>\n",
       "      <td>0</td>\n",
       "      <td>0</td>\n",
       "      <td>0</td>\n",
       "      <td>0</td>\n",
       "      <td>1</td>\n",
       "      <td>0</td>\n",
       "      <td>0</td>\n",
       "      <td>1</td>\n",
       "      <td>0</td>\n",
       "    </tr>\n",
       "    <tr>\n",
       "      <th>1</th>\n",
       "      <td>-1.007241</td>\n",
       "      <td>0.454871</td>\n",
       "      <td>-0.269387</td>\n",
       "      <td>-0.175242</td>\n",
       "      <td>-0.325658</td>\n",
       "      <td>-0.087446</td>\n",
       "      <td>-0.089538</td>\n",
       "      <td>1</td>\n",
       "      <td>0</td>\n",
       "      <td>0</td>\n",
       "      <td>0</td>\n",
       "      <td>0</td>\n",
       "      <td>1</td>\n",
       "      <td>0</td>\n",
       "      <td>1</td>\n",
       "      <td>0</td>\n",
       "      <td>0</td>\n",
       "      <td>0</td>\n",
       "    </tr>\n",
       "    <tr>\n",
       "      <th>2</th>\n",
       "      <td>-1.198289</td>\n",
       "      <td>0.454871</td>\n",
       "      <td>-0.269387</td>\n",
       "      <td>-0.175242</td>\n",
       "      <td>-0.325658</td>\n",
       "      <td>-0.045646</td>\n",
       "      <td>-0.031012</td>\n",
       "      <td>1</td>\n",
       "      <td>0</td>\n",
       "      <td>0</td>\n",
       "      <td>0</td>\n",
       "      <td>0</td>\n",
       "      <td>0</td>\n",
       "      <td>1</td>\n",
       "      <td>0</td>\n",
       "      <td>0</td>\n",
       "      <td>1</td>\n",
       "      <td>0</td>\n",
       "    </tr>\n",
       "  </tbody>\n",
       "</table>\n",
       "</div>"
      ],
      "text/plain": [
       "   Number.of.Bags  Moisture  Category.One.Defects   Quakers  \\\n",
       "0        1.181856  0.207447             -0.269387 -0.175242   \n",
       "1       -1.007241  0.454871             -0.269387 -0.175242   \n",
       "2       -1.198289  0.454871             -0.269387 -0.175242   \n",
       "\n",
       "   Category.Two.Defects  altitude_low_meters  altitude_high_meters  \\\n",
       "0             -0.046362            -0.054006             -0.056095   \n",
       "1             -0.325658            -0.087446             -0.089538   \n",
       "2             -0.325658            -0.045646             -0.031012   \n",
       "\n",
       "   Species_Arabica  Species_Robusta  Processing.Method_Natural / Dry  \\\n",
       "0                1                0                                0   \n",
       "1                1                0                                0   \n",
       "2                1                0                                0   \n",
       "\n",
       "   Processing.Method_Other  Processing.Method_Pulped natural / honey  \\\n",
       "0                        0                                         0   \n",
       "1                        0                                         0   \n",
       "2                        0                                         0   \n",
       "\n",
       "   Processing.Method_Semi-washed / Semi-pulped  \\\n",
       "0                                            0   \n",
       "1                                            1   \n",
       "2                                            0   \n",
       "\n",
       "   Processing.Method_Washed / Wet  Color_Blue-Green  Color_Bluish-Green  \\\n",
       "0                               1                 0                   0   \n",
       "1                               0                 1                   0   \n",
       "2                               1                 0                   0   \n",
       "\n",
       "   Color_Green  Color_None  \n",
       "0            1           0  \n",
       "1            0           0  \n",
       "2            1           0  "
      ]
     },
     "execution_count": 8,
     "metadata": {},
     "output_type": "execute_result"
    }
   ],
   "source": [
    "stnd = StandardScaler()\n",
    "X_train_num = X_train.select_dtypes(include='number')\n",
    "stnd.fit(X_train_num)\n",
    "X_train_num = pd.DataFrame(stnd.transform(X_train_num),columns=X_train_num.columns)\n",
    "\n",
    "X_train_cat = X_train.select_dtypes(exclude='number')\n",
    "X_train_cat = pd.get_dummies(X_train_cat)\n",
    "\n",
    "X_train = pd.concat([X_train_num, X_train_cat], axis=1)\n",
    "X_train.head(3)"
   ]
  },
  {
   "cell_type": "code",
   "execution_count": 9,
   "id": "c7ee2980",
   "metadata": {},
   "outputs": [
    {
     "data": {
      "text/html": [
       "<div>\n",
       "<style scoped>\n",
       "    .dataframe tbody tr th:only-of-type {\n",
       "        vertical-align: middle;\n",
       "    }\n",
       "\n",
       "    .dataframe tbody tr th {\n",
       "        vertical-align: top;\n",
       "    }\n",
       "\n",
       "    .dataframe thead th {\n",
       "        text-align: right;\n",
       "    }\n",
       "</style>\n",
       "<table border=\"1\" class=\"dataframe\">\n",
       "  <thead>\n",
       "    <tr style=\"text-align: right;\">\n",
       "      <th></th>\n",
       "      <th>Number.of.Bags</th>\n",
       "      <th>Moisture</th>\n",
       "      <th>Category.One.Defects</th>\n",
       "      <th>Quakers</th>\n",
       "      <th>Category.Two.Defects</th>\n",
       "      <th>altitude_low_meters</th>\n",
       "      <th>altitude_high_meters</th>\n",
       "      <th>Species_Arabica</th>\n",
       "      <th>Species_Robusta</th>\n",
       "      <th>Processing.Method_Natural / Dry</th>\n",
       "      <th>Processing.Method_Other</th>\n",
       "      <th>Processing.Method_Pulped natural / honey</th>\n",
       "      <th>Processing.Method_Semi-washed / Semi-pulped</th>\n",
       "      <th>Processing.Method_Washed / Wet</th>\n",
       "      <th>Color_Blue-Green</th>\n",
       "      <th>Color_Bluish-Green</th>\n",
       "      <th>Color_Green</th>\n",
       "      <th>Color_None</th>\n",
       "    </tr>\n",
       "  </thead>\n",
       "  <tbody>\n",
       "    <tr>\n",
       "      <th>0</th>\n",
       "      <td>0.798278</td>\n",
       "      <td>0.236687</td>\n",
       "      <td>-0.186578</td>\n",
       "      <td>-0.251115</td>\n",
       "      <td>-0.533886</td>\n",
       "      <td>-0.031316</td>\n",
       "      <td>-0.036581</td>\n",
       "      <td>1</td>\n",
       "      <td>0</td>\n",
       "      <td>0</td>\n",
       "      <td>0</td>\n",
       "      <td>0</td>\n",
       "      <td>0</td>\n",
       "      <td>1</td>\n",
       "      <td>0</td>\n",
       "      <td>0</td>\n",
       "      <td>1</td>\n",
       "      <td>0</td>\n",
       "    </tr>\n",
       "    <tr>\n",
       "      <th>1</th>\n",
       "      <td>0.798278</td>\n",
       "      <td>-0.037689</td>\n",
       "      <td>-0.186578</td>\n",
       "      <td>0.742427</td>\n",
       "      <td>0.791983</td>\n",
       "      <td>-0.062867</td>\n",
       "      <td>-0.068142</td>\n",
       "      <td>1</td>\n",
       "      <td>0</td>\n",
       "      <td>0</td>\n",
       "      <td>0</td>\n",
       "      <td>0</td>\n",
       "      <td>0</td>\n",
       "      <td>1</td>\n",
       "      <td>0</td>\n",
       "      <td>0</td>\n",
       "      <td>1</td>\n",
       "      <td>0</td>\n",
       "    </tr>\n",
       "    <tr>\n",
       "      <th>2</th>\n",
       "      <td>-1.090134</td>\n",
       "      <td>0.785440</td>\n",
       "      <td>-0.186578</td>\n",
       "      <td>-0.251115</td>\n",
       "      <td>-0.155066</td>\n",
       "      <td>-0.090941</td>\n",
       "      <td>-0.096223</td>\n",
       "      <td>1</td>\n",
       "      <td>0</td>\n",
       "      <td>0</td>\n",
       "      <td>0</td>\n",
       "      <td>0</td>\n",
       "      <td>0</td>\n",
       "      <td>1</td>\n",
       "      <td>0</td>\n",
       "      <td>0</td>\n",
       "      <td>1</td>\n",
       "      <td>0</td>\n",
       "    </tr>\n",
       "  </tbody>\n",
       "</table>\n",
       "</div>"
      ],
      "text/plain": [
       "   Number.of.Bags  Moisture  Category.One.Defects   Quakers  \\\n",
       "0        0.798278  0.236687             -0.186578 -0.251115   \n",
       "1        0.798278 -0.037689             -0.186578  0.742427   \n",
       "2       -1.090134  0.785440             -0.186578 -0.251115   \n",
       "\n",
       "   Category.Two.Defects  altitude_low_meters  altitude_high_meters  \\\n",
       "0             -0.533886            -0.031316             -0.036581   \n",
       "1              0.791983            -0.062867             -0.068142   \n",
       "2             -0.155066            -0.090941             -0.096223   \n",
       "\n",
       "   Species_Arabica  Species_Robusta  Processing.Method_Natural / Dry  \\\n",
       "0                1                0                                0   \n",
       "1                1                0                                0   \n",
       "2                1                0                                0   \n",
       "\n",
       "   Processing.Method_Other  Processing.Method_Pulped natural / honey  \\\n",
       "0                        0                                         0   \n",
       "1                        0                                         0   \n",
       "2                        0                                         0   \n",
       "\n",
       "   Processing.Method_Semi-washed / Semi-pulped  \\\n",
       "0                                            0   \n",
       "1                                            0   \n",
       "2                                            0   \n",
       "\n",
       "   Processing.Method_Washed / Wet  Color_Blue-Green  Color_Bluish-Green  \\\n",
       "0                               1                 0                   0   \n",
       "1                               1                 0                   0   \n",
       "2                               1                 0                   0   \n",
       "\n",
       "   Color_Green  Color_None  \n",
       "0            1           0  \n",
       "1            1           0  \n",
       "2            1           0  "
      ]
     },
     "execution_count": 9,
     "metadata": {},
     "output_type": "execute_result"
    }
   ],
   "source": [
    "stnd = StandardScaler()\n",
    "X_test_num = X_test.select_dtypes(include='number')\n",
    "stnd.fit(X_test_num)\n",
    "X_test_num = pd.DataFrame(stnd.transform(X_test_num),columns=X_test_num.columns)\n",
    "\n",
    "X_test_cat = X_test.select_dtypes(exclude='number')\n",
    "X_test_cat = pd.get_dummies(X_test_cat)\n",
    "\n",
    "X_test = pd.concat([X_test_num, X_test_cat], axis=1)\n",
    "X_test.head(3)"
   ]
  },
  {
   "cell_type": "code",
   "execution_count": 10,
   "id": "eb2ee2aa",
   "metadata": {},
   "outputs": [
    {
     "data": {
      "text/plain": [
       "(1244,)"
      ]
     },
     "execution_count": 10,
     "metadata": {},
     "output_type": "execute_result"
    }
   ],
   "source": [
    "y_train.shape"
   ]
  },
  {
   "cell_type": "code",
   "execution_count": 11,
   "id": "a68279d3",
   "metadata": {},
   "outputs": [
    {
     "data": {
      "text/plain": [
       "(1244, 18)"
      ]
     },
     "execution_count": 11,
     "metadata": {},
     "output_type": "execute_result"
    }
   ],
   "source": [
    "X_train.shape"
   ]
  },
  {
   "cell_type": "code",
   "execution_count": 12,
   "id": "7517505d",
   "metadata": {},
   "outputs": [
    {
     "data": {
      "text/plain": [
       "{'C': 1.0,\n",
       " 'break_ties': False,\n",
       " 'cache_size': 200,\n",
       " 'class_weight': None,\n",
       " 'coef0': 0.0,\n",
       " 'decision_function_shape': 'ovr',\n",
       " 'degree': 3,\n",
       " 'gamma': 'scale',\n",
       " 'kernel': 'rbf',\n",
       " 'max_iter': -1,\n",
       " 'probability': False,\n",
       " 'random_state': None,\n",
       " 'shrinking': True,\n",
       " 'tol': 0.001,\n",
       " 'verbose': False}"
      ]
     },
     "execution_count": 12,
     "metadata": {},
     "output_type": "execute_result"
    }
   ],
   "source": [
    "clf = SVC()\n",
    "clf.get_params()"
   ]
  },
  {
   "cell_type": "code",
   "execution_count": 13,
   "id": "6e78aafb",
   "metadata": {},
   "outputs": [
    {
     "data": {
      "text/plain": [
       "array([3.05175781e-05, 6.10351562e-05, 1.22070312e-04, 2.44140625e-04,\n",
       "       4.88281250e-04, 9.76562500e-04, 1.95312500e-03, 3.90625000e-03,\n",
       "       7.81250000e-03, 1.56250000e-02, 3.12500000e-02, 6.25000000e-02,\n",
       "       1.25000000e-01, 2.50000000e-01, 5.00000000e-01, 1.00000000e+00,\n",
       "       2.00000000e+00, 4.00000000e+00])"
      ]
     },
     "execution_count": 13,
     "metadata": {},
     "output_type": "execute_result"
    }
   ],
   "source": [
    "gamma_sweep = 2.0**np.array(list(range(-15,3)))\n",
    "gamma_sweep"
   ]
  },
  {
   "cell_type": "code",
   "execution_count": 14,
   "id": "a4e150b8",
   "metadata": {},
   "outputs": [
    {
     "name": "stdout",
     "output_type": "stream",
     "text": [
      "Fitting 5 folds for each of 18 candidates, totalling 90 fits\n"
     ]
    },
    {
     "data": {
      "text/plain": [
       "GridSearchCV(estimator=SVC(), n_jobs=-1,\n",
       "             param_grid={'gamma': array([3.05175781e-05, 6.10351562e-05, 1.22070312e-04, 2.44140625e-04,\n",
       "       4.88281250e-04, 9.76562500e-04, 1.95312500e-03, 3.90625000e-03,\n",
       "       7.81250000e-03, 1.56250000e-02, 3.12500000e-02, 6.25000000e-02,\n",
       "       1.25000000e-01, 2.50000000e-01, 5.00000000e-01, 1.00000000e+00,\n",
       "       2.00000000e+00, 4.00000000e+00]),\n",
       "                         'kernel': ['rbf']},\n",
       "             return_train_score=True, verbose=3)"
      ]
     },
     "execution_count": 14,
     "metadata": {},
     "output_type": "execute_result"
    }
   ],
   "source": [
    "grid = {'gamma': gamma_sweep, 'kernel': ['rbf']}\n",
    "clfCV = GridSearchCV(clf,param_grid=grid,return_train_score=True,n_jobs=-1,verbose=3)\n",
    "clfCV.fit(X_train,y_train)"
   ]
  },
  {
   "cell_type": "code",
   "execution_count": 15,
   "id": "6db07afe",
   "metadata": {},
   "outputs": [
    {
     "data": {
      "text/plain": [
       "4.0"
      ]
     },
     "execution_count": 15,
     "metadata": {},
     "output_type": "execute_result"
    }
   ],
   "source": [
    "clfCV.best_params_['gamma']"
   ]
  },
  {
   "cell_type": "code",
   "execution_count": 16,
   "id": "8f3dd406",
   "metadata": {},
   "outputs": [
    {
     "name": "stdout",
     "output_type": "stream",
     "text": [
      "         best gamma {'gamma': 4.0, 'kernel': 'rbf'}\n",
      "  validation R2 = 0.869\n"
     ]
    }
   ],
   "source": [
    "print('         best gamma',clfCV.best_params_)\n",
    "print('  validation R2 =',clfCV.best_score_.round(3))"
   ]
  },
  {
   "cell_type": "code",
   "execution_count": 17,
   "id": "1749f216",
   "metadata": {},
   "outputs": [],
   "source": [
    "clfCV_gamma = SVC(gamma=clfCV.best_params_['gamma'])"
   ]
  },
  {
   "cell_type": "code",
   "execution_count": 18,
   "id": "091bb5d7",
   "metadata": {},
   "outputs": [
    {
     "data": {
      "text/plain": [
       "array([3.1250e-02, 6.2500e-02, 1.2500e-01, 2.5000e-01, 5.0000e-01,\n",
       "       1.0000e+00, 2.0000e+00, 4.0000e+00, 8.0000e+00, 1.6000e+01,\n",
       "       3.2000e+01, 6.4000e+01, 1.2800e+02, 2.5600e+02, 5.1200e+02,\n",
       "       1.0240e+03, 2.0480e+03, 4.0960e+03, 8.1920e+03, 1.6384e+04])"
      ]
     },
     "execution_count": 18,
     "metadata": {},
     "output_type": "execute_result"
    }
   ],
   "source": [
    "C_sweep = 2.0**np.array(list(range(-5,15)))\n",
    "C_sweep"
   ]
  },
  {
   "cell_type": "code",
   "execution_count": 19,
   "id": "1c572a9b",
   "metadata": {},
   "outputs": [
    {
     "name": "stdout",
     "output_type": "stream",
     "text": [
      "Fitting 5 folds for each of 20 candidates, totalling 100 fits\n"
     ]
    },
    {
     "data": {
      "text/plain": [
       "GridSearchCV(estimator=SVC(gamma=4.0), n_jobs=-1,\n",
       "             param_grid={'C': array([3.1250e-02, 6.2500e-02, 1.2500e-01, 2.5000e-01, 5.0000e-01,\n",
       "       1.0000e+00, 2.0000e+00, 4.0000e+00, 8.0000e+00, 1.6000e+01,\n",
       "       3.2000e+01, 6.4000e+01, 1.2800e+02, 2.5600e+02, 5.1200e+02,\n",
       "       1.0240e+03, 2.0480e+03, 4.0960e+03, 8.1920e+03, 1.6384e+04]),\n",
       "                         'kernel': ['rbf']},\n",
       "             return_train_score=True, verbose=3)"
      ]
     },
     "execution_count": 19,
     "metadata": {},
     "output_type": "execute_result"
    }
   ],
   "source": [
    "grid = {'C': C_sweep, 'kernel': ['rbf']}\n",
    "clfCV_gamma = GridSearchCV(clfCV_gamma,param_grid=grid,return_train_score=True,n_jobs=-1,verbose=3)\n",
    "clfCV_gamma.fit(X_train,y_train)"
   ]
  },
  {
   "cell_type": "code",
   "execution_count": 20,
   "id": "a96b7155",
   "metadata": {},
   "outputs": [
    {
     "name": "stdout",
     "output_type": "stream",
     "text": [
      "         best gamma=4.0 and C ={'C': 2048.0, 'kernel': 'rbf'}\n",
      "  validation R2 = 0.945\n"
     ]
    }
   ],
   "source": [
    "print(f\"         best gamma={clfCV.best_params_['gamma']} and C ={clfCV_gamma.best_params_}\")\n",
    "print('  validation R2 =',clfCV_gamma.best_score_.round(3))"
   ]
  },
  {
   "cell_type": "code",
   "execution_count": 21,
   "id": "ba45fcfc",
   "metadata": {},
   "outputs": [
    {
     "name": "stdout",
     "output_type": "stream",
     "text": [
      "test R2 0.758\n"
     ]
    }
   ],
   "source": [
    "print('test R2',clfCV_gamma.score(X_test,y_test).round(3))"
   ]
  },
  {
   "cell_type": "code",
   "execution_count": 22,
   "id": "9720a133",
   "metadata": {},
   "outputs": [
    {
     "name": "stdout",
     "output_type": "stream",
     "text": [
      "Fitting 5 folds for each of 360 candidates, totalling 1800 fits\n"
     ]
    },
    {
     "data": {
      "text/plain": [
       "GridSearchCV(estimator=SVC(), n_jobs=-1,\n",
       "             param_grid={'C': array([3.1250e-02, 6.2500e-02, 1.2500e-01, 2.5000e-01, 5.0000e-01,\n",
       "       1.0000e+00, 2.0000e+00, 4.0000e+00, 8.0000e+00, 1.6000e+01,\n",
       "       3.2000e+01, 6.4000e+01, 1.2800e+02, 2.5600e+02, 5.1200e+02,\n",
       "       1.0240e+03, 2.0480e+03, 4.0960e+03, 8.1920e+03, 1.6384e+04]),\n",
       "                         'gamma': array([3.05175781e-05, 6.10351562e-05, 1.22070312e-04, 2.44140625e-04,\n",
       "       4.88281250e-04, 9.76562500e-04, 1.95312500e-03, 3.90625000e-03,\n",
       "       7.81250000e-03, 1.56250000e-02, 3.12500000e-02, 6.25000000e-02,\n",
       "       1.25000000e-01, 2.50000000e-01, 5.00000000e-01, 1.00000000e+00,\n",
       "       2.00000000e+00, 4.00000000e+00]),\n",
       "                         'kernel': ['rbf']},\n",
       "             return_train_score=True, verbose=3)"
      ]
     },
     "execution_count": 22,
     "metadata": {},
     "output_type": "execute_result"
    }
   ],
   "source": [
    "# trying both\n",
    "grid = {'C': C_sweep, 'gamma': gamma_sweep, 'kernel': ['rbf']}\n",
    "clfNew = SVC()\n",
    "clfNew = GridSearchCV(clfNew,param_grid=grid,return_train_score=True,n_jobs=-1,verbose=3)\n",
    "clfNew.fit(X_train,y_train)"
   ]
  },
  {
   "cell_type": "code",
   "execution_count": 23,
   "id": "de639249",
   "metadata": {},
   "outputs": [
    {
     "name": "stdout",
     "output_type": "stream",
     "text": [
      "best gamma = 4.0 and C = 2048.0\n",
      "validation R2 = 0.945\n"
     ]
    }
   ],
   "source": [
    "print(f\"best gamma = {clfNew.best_params_['gamma']} and C = {clfNew.best_params_['C']}\")\n",
    "print('validation R2 =',clfNew.best_score_.round(3))"
   ]
  },
  {
   "cell_type": "code",
   "execution_count": 24,
   "id": "0dc070ce",
   "metadata": {},
   "outputs": [
    {
     "name": "stdout",
     "output_type": "stream",
     "text": [
      "test R2 0.758\n"
     ]
    }
   ],
   "source": [
    "print('test R2',clfNew.score(X_test,y_test).round(3))"
   ]
  },
  {
   "cell_type": "code",
   "execution_count": 25,
   "id": "55721c85",
   "metadata": {},
   "outputs": [],
   "source": [
    "clfNew_kernel = SVC(gamma=clfNew.best_params_['gamma'],C=clfNew.best_params_['C'])"
   ]
  },
  {
   "cell_type": "code",
   "execution_count": 26,
   "id": "fccdc1b3",
   "metadata": {},
   "outputs": [],
   "source": [
    "# trying diff kernels\n",
    "### TAKES FAR TOO MUCH MEMORY AND \n",
    "# grid = {'kernel': ['rbf','poly', 'sigmoid']}\n",
    "# clfNew_kernel = GridSearchCV(clfNew_kernel,param_grid=grid,return_train_score=True,n_jobs=-1,verbose=3)\n",
    "# clfNew_kernel.fit(X_train,y_train)"
   ]
  },
  {
   "cell_type": "code",
   "execution_count": 27,
   "id": "294a8708",
   "metadata": {},
   "outputs": [],
   "source": [
    "# print(f\"best gamma = {clfNew_kernel.best_params_['gamma']} and C = {clfNew_kernel.best_params_['C']} with kernel: {clfNew_kernel.best_params_['kernel']}\")\n",
    "# print('validation R2 =',clfNew.best_score_.round(3))"
   ]
  },
  {
   "cell_type": "code",
   "execution_count": 28,
   "id": "387c7e51",
   "metadata": {},
   "outputs": [],
   "source": [
    "import matplotlib.pyplot as plt"
   ]
  },
  {
   "cell_type": "code",
   "execution_count": 29,
   "id": "0340ccaf",
   "metadata": {},
   "outputs": [],
   "source": [
    "def plot_svc_decision_function(model, ax=None, plot_support=True):\n",
    "    \"\"\"Plot the decision function for a 2D SVC\"\"\"\n",
    "    if ax is None:\n",
    "        ax = plt.gca()\n",
    "    xlim = ax.get_xlim()\n",
    "    ylim = ax.get_ylim()\n",
    "    \n",
    "    # create grid to evaluate model\n",
    "    x = np.linspace(xlim[0], xlim[1], 30)\n",
    "    y = np.linspace(ylim[0], ylim[1], 30)\n",
    "    Y, X = np.meshgrid(y, x)\n",
    "    xy = np.vstack([X.ravel(), Y.ravel()]).T\n",
    "    P = model.decision_function(xy).reshape(X.shape)\n",
    "    \n",
    "    # plot decision boundary and margins\n",
    "    ax.contour(X, Y, P, colors='k',\n",
    "               levels=[-1, 0, 1], alpha=0.5,\n",
    "               linestyles=['--', '-', '--'])\n",
    "    \n",
    "    # plot support vectors\n",
    "    if plot_support:\n",
    "        ax.scatter(model.support_vectors_[:, 0],\n",
    "                   model.support_vectors_[:, 1],\n",
    "                   s=300, linewidth=1, facecolors='none');\n",
    "    ax.set_xlim(xlim)\n",
    "    ax.set_ylim(ylim)"
   ]
  },
  {
   "cell_type": "markdown",
   "id": "7a03df8f",
   "metadata": {},
   "source": [
    "# Visualizing Results!"
   ]
  },
  {
   "cell_type": "code",
   "execution_count": 30,
   "id": "1749e509",
   "metadata": {},
   "outputs": [],
   "source": [
    "y_fit = clfNew.predict(X_test)"
   ]
  },
  {
   "cell_type": "code",
   "execution_count": 31,
   "id": "e8475b2b",
   "metadata": {},
   "outputs": [
    {
     "name": "stdout",
     "output_type": "stream",
     "text": [
      "              precision    recall  f1-score   support\n",
      "\n",
      "   excellent       0.88      0.84      0.86       161\n",
      "   very good       0.10      0.14      0.12        21\n",
      "\n",
      "    accuracy                           0.76       182\n",
      "   macro avg       0.49      0.49      0.49       182\n",
      "weighted avg       0.79      0.76      0.77       182\n",
      "\n"
     ]
    }
   ],
   "source": [
    "from sklearn.metrics import classification_report\n",
    "print(classification_report(y_test, y_fit))"
   ]
  },
  {
   "cell_type": "code",
   "execution_count": 32,
   "id": "c69dde18",
   "metadata": {},
   "outputs": [
    {
     "data": {
      "text/plain": [
       "excellent    153\n",
       "very good     29\n",
       "dtype: int64"
      ]
     },
     "execution_count": 32,
     "metadata": {},
     "output_type": "execute_result"
    }
   ],
   "source": [
    "fitted = pd.DataFrame(y_fit)\n",
    "fitted.value_counts()"
   ]
  },
  {
   "cell_type": "code",
   "execution_count": 33,
   "id": "479833ac",
   "metadata": {},
   "outputs": [
    {
     "data": {
      "text/plain": [
       "Text(89.18, 0.5, 'predicted label')"
      ]
     },
     "execution_count": 33,
     "metadata": {},
     "output_type": "execute_result"
    },
    {
     "data": {
      "image/png": "[encoded data removed]",
      "text/plain": [
       "<Figure size 432x288 with 1 Axes>"
      ]
     },
     "metadata": {},
     "output_type": "display_data"
    }
   ],
   "source": [
    "import seaborn as sns; sns.set()\n",
    "from sklearn.metrics import confusion_matrix\n",
    "mat = confusion_matrix(y_test, y_fit,labels=['excellent','very good'])\n",
    "sns.heatmap(mat.T, square=True, annot=True, fmt='d', cbar=False,\n",
    "            xticklabels=['excellent','very good'],\n",
    "            yticklabels=['excellent','very good'])\n",
    "plt.xlabel('true label')\n",
    "plt.ylabel('predicted label')"
   ]
  }
 ],
 "metadata": {
  "interpreter": {
   "hash": "ad2bdc8ecc057115af97d19610ffacc2b4e99fae6737bb82f5d7fb13d2f2c186"
  },
  "kernelspec": {
   "display_name": "Python 3 (ipykernel)",
   "language": "python",
   "name": "python3"
  },
  "language_info": {
   "codemirror_mode": {
    "name": "ipython",
    "version": 3
   },
   "file_extension": ".py",
   "mimetype": "text/x-python",
   "name": "python",
   "nbconvert_exporter": "python",
   "pygments_lexer": "ipython3",
   "version": "3.8.12"
  }
 },
 "nbformat": 4,
 "nbformat_minor": 5
}
